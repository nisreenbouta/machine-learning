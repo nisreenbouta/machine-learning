{
 "cells": [
  {
   "cell_type": "code",
   "execution_count": 1,
   "id": "f80f1a16",
   "metadata": {},
   "outputs": [],
   "source": [
    "from sklearn.utils import shuffle\n",
    "import numpy as np"
   ]
  },
  {
   "cell_type": "code",
   "execution_count": 2,
   "id": "04d6f13b",
   "metadata": {},
   "outputs": [],
   "source": [
    "num_doors = 3\n",
    "trials = 100000\n",
    "#list of the door contents. car and goat\n",
    "door_contents = ['goat'] * (num_doors - 1) + ['car']\n",
    "\n",
    "# Initializing the results counters\n",
    "no_switch_wins = 0\n",
    "switch_wins = 0"
   ]
  },
  {
   "cell_type": "code",
   "execution_count": 3,
   "id": "f948296c",
   "metadata": {},
   "outputs": [],
   "source": [
    "for i in range(trials):\n",
    "    # Shuffle the door contents and assign them to doors\n",
    "    doors = shuffle(door_contents, random_state=i)\n",
    "    \n",
    "    # Choose a random door\n",
    "    chosen_door = np.random.choice(num_doors)\n",
    "    \n",
    "    # Open a door with a goat behind it that isn't the chosen door\n",
    "    for j in range(num_doors):\n",
    "        if j != chosen_door and doors[j] == 'goat':\n",
    "            opened_door = j\n",
    "            break\n",
    "            \n",
    "    # Determine the remaining unopened door\n",
    "    for j in range(num_doors):\n",
    "        if j != chosen_door and j != opened_door:\n",
    "            remaining_door = j\n",
    "            break\n",
    "    \n",
    "    # Check if the player wins without switching\n",
    "    if doors[chosen_door] == 'car':\n",
    "        no_switch_wins += 1\n",
    "    \n",
    "    # Check if the player wins by switching\n",
    "    if doors[remaining_door] == 'car':\n",
    "        switch_wins += 1"
   ]
  },
  {
   "cell_type": "code",
   "execution_count": 4,
   "id": "00ca9c19",
   "metadata": {},
   "outputs": [
    {
     "name": "stdout",
     "output_type": "stream",
     "text": [
      "No switch wins: 0.33\n",
      "Switch wins: 0.67\n"
     ]
    }
   ],
   "source": [
    "print(f\"No switch wins: {no_switch_wins/trials:.2f}\")\n",
    "print(f\"Switch wins: {switch_wins/trials:.2f}\")"
   ]
  },
  {
   "cell_type": "markdown",
   "id": "4a5e949c",
   "metadata": {},
   "source": [
    "The probability of winning the car if you stick with door B is 1/3, which is approximately 33.33%.\n",
    "\n",
    "The probability of winning the car if you switch to the remaining door is 2/3, which is approximately 66.67%.\n",
    "\n",
    "Therefore, switching doors gives you a 66.67% chance of winning the car, which is twice as high as the 33.33% chance you have if you stick with your initial choice."
   ]
  }
 ],
 "metadata": {
  "kernelspec": {
   "display_name": "Python 3 (ipykernel)",
   "language": "python",
   "name": "python3"
  },
  "language_info": {
   "codemirror_mode": {
    "name": "ipython",
    "version": 3
   },
   "file_extension": ".py",
   "mimetype": "text/x-python",
   "name": "python",
   "nbconvert_exporter": "python",
   "pygments_lexer": "ipython3",
   "version": "3.9.13"
  }
 },
 "nbformat": 4,
 "nbformat_minor": 5
}
