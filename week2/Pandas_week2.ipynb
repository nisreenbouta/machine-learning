{
 "cells": [
  {
   "cell_type": "code",
   "execution_count": 1,
   "id": "77e6876d",
   "metadata": {},
   "outputs": [],
   "source": [
    "import pandas as pd\n"
   ]
  },
  {
   "cell_type": "code",
   "execution_count": null,
   "id": "bbe380a9",
   "metadata": {},
   "outputs": [],
   "source": [
    "df = pd.read_csv(\"e:/Nisreen/Desktop/machine learning/data.csv\")\n",
    "print(df)"
   ]
  },
  {
   "cell_type": "code",
   "execution_count": 48,
   "id": "d4351bc3",
   "metadata": {},
   "outputs": [
    {
     "name": "stdout",
     "output_type": "stream",
     "text": [
      "      Name                   Position  Salary\n",
      "0  Nisreen  Manager,Computer Engineer   20000\n",
      "1     Sara             Graphic Design   10500\n",
      "2      Tom              Web Developer   12000\n",
      "3  Mohamed      Manager,IT specialist   20000\n"
     ]
    }
   ],
   "source": [
    "Team = {\"Name\":[\"Nisreen\",\"Sara\",\"Tom\",\"Mohamed\"],\n",
    "            \"Position\":[\"Manager,Computer Engineer\",\"Graphic Design\",\"Web Developer\",\"Manager,IT specialist\"],\n",
    "       \"Salary\":[20000,10500,12000,20000]}\n",
    "TeamData = pd.DataFrame(Team)\n",
    "print(TeamData)"
   ]
  },
  {
   "cell_type": "code",
   "execution_count": 49,
   "id": "3bca54f8",
   "metadata": {},
   "outputs": [
    {
     "name": "stdout",
     "output_type": "stream",
     "text": [
      "      Name                   Position  Salary\n",
      "0  Nisreen  Manager,Computer Engineer   20000\n",
      "1     Sara             Graphic Design   10500\n",
      "2      Tom              Web Developer   12000\n",
      "3  Mohamed      Manager,IT specialist   20000\n"
     ]
    }
   ],
   "source": [
    "head = TeamData.head()\n",
    "print(head)"
   ]
  },
  {
   "cell_type": "code",
   "execution_count": 50,
   "id": "17d1b1bc",
   "metadata": {},
   "outputs": [
    {
     "name": "stdout",
     "output_type": "stream",
     "text": [
      "Index(['Name', 'Position', 'Salary'], dtype='object')\n"
     ]
    }
   ],
   "source": [
    "print(TeamData.columns)"
   ]
  },
  {
   "cell_type": "code",
   "execution_count": 51,
   "id": "521e22fd",
   "metadata": {},
   "outputs": [
    {
     "name": "stdout",
     "output_type": "stream",
     "text": [
      "<class 'pandas.core.frame.DataFrame'>\n",
      "RangeIndex: 4 entries, 0 to 3\n",
      "Data columns (total 3 columns):\n",
      " #   Column    Non-Null Count  Dtype \n",
      "---  ------    --------------  ----- \n",
      " 0   Name      4 non-null      object\n",
      " 1   Position  4 non-null      object\n",
      " 2   Salary    4 non-null      int64 \n",
      "dtypes: int64(1), object(2)\n",
      "memory usage: 224.0+ bytes\n",
      "None\n"
     ]
    }
   ],
   "source": [
    "print(TeamData.info())"
   ]
  },
  {
   "cell_type": "code",
   "execution_count": 52,
   "id": "08e4546d",
   "metadata": {},
   "outputs": [
    {
     "name": "stdout",
     "output_type": "stream",
     "text": [
      "Name        object\n",
      "Position    object\n",
      "Salary       int64\n",
      "dtype: object\n"
     ]
    }
   ],
   "source": [
    "print(TeamData.dtypes)"
   ]
  },
  {
   "cell_type": "code",
   "execution_count": 53,
   "id": "a38e92d5",
   "metadata": {},
   "outputs": [
    {
     "name": "stdout",
     "output_type": "stream",
     "text": [
      "            Salary\n",
      "count      4.00000\n",
      "mean   15625.00000\n",
      "std     5088.79488\n",
      "min    10500.00000\n",
      "25%    11625.00000\n",
      "50%    16000.00000\n",
      "75%    20000.00000\n",
      "max    20000.00000\n"
     ]
    }
   ],
   "source": [
    "print(TeamData.describe())"
   ]
  },
  {
   "cell_type": "code",
   "execution_count": 54,
   "id": "c2c7179b",
   "metadata": {},
   "outputs": [
    {
     "name": "stdout",
     "output_type": "stream",
     "text": [
      "0    Manager,Computer Engineer\n",
      "1               Graphic Design\n",
      "2                Web Developer\n",
      "3        Manager,IT specialist\n",
      "Name: Position, dtype: object\n"
     ]
    }
   ],
   "source": [
    "print(TeamData[\"Position\"])"
   ]
  },
  {
   "cell_type": "code",
   "execution_count": 20,
   "id": "819fe125",
   "metadata": {},
   "outputs": [
    {
     "name": "stdout",
     "output_type": "stream",
     "text": [
      "0    Nisreen\n",
      "1       Sara\n",
      "2        Tom\n",
      "3    Mohamed\n",
      "Name: Name, dtype: object\n"
     ]
    }
   ],
   "source": [
    "print(TeamData[\"Name\"])"
   ]
  },
  {
   "cell_type": "code",
   "execution_count": 55,
   "id": "b142276b",
   "metadata": {},
   "outputs": [
    {
     "name": "stdout",
     "output_type": "stream",
     "text": [
      "0    20000\n",
      "1    10500\n",
      "2    12000\n",
      "3    20000\n",
      "Name: Salary, dtype: int64\n"
     ]
    }
   ],
   "source": [
    "print(TeamData.loc[:,\"Salary\"])"
   ]
  },
  {
   "cell_type": "code",
   "execution_count": 59,
   "id": "e7cfba05",
   "metadata": {},
   "outputs": [],
   "source": [
    "TeamData[\"Age\"]= [21,21,25,23]"
   ]
  },
  {
   "cell_type": "code",
   "execution_count": 60,
   "id": "5bb19786",
   "metadata": {},
   "outputs": [
    {
     "name": "stdout",
     "output_type": "stream",
     "text": [
      "      Name                   Position  Salary  age  Age\n",
      "0  Nisreen  Manager,Computer Engineer   20000   21   21\n",
      "1     Sara             Graphic Design   10500   21   21\n",
      "2      Tom              Web Developer   12000   25   25\n",
      "3  Mohamed      Manager,IT specialist   20000   23   23\n"
     ]
    }
   ],
   "source": [
    "print(TeamData)"
   ]
  },
  {
   "cell_type": "code",
   "execution_count": 61,
   "id": "5d3c5ea9",
   "metadata": {},
   "outputs": [
    {
     "name": "stdout",
     "output_type": "stream",
     "text": [
      "0    21\n",
      "1    21\n",
      "2    25\n",
      "3    23\n",
      "Name: Age, dtype: int64\n"
     ]
    }
   ],
   "source": [
    "print(TeamData.loc[:3,\"Age\"])"
   ]
  },
  {
   "cell_type": "code",
   "execution_count": 62,
   "id": "910531aa",
   "metadata": {},
   "outputs": [
    {
     "name": "stdout",
     "output_type": "stream",
     "text": [
      "1    21\n",
      "2    25\n",
      "3    23\n",
      "Name: Age, dtype: int64\n"
     ]
    }
   ],
   "source": [
    "print(TeamData.loc[1:3,\"Age\"])"
   ]
  },
  {
   "cell_type": "code",
   "execution_count": 63,
   "id": "43054b6b",
   "metadata": {},
   "outputs": [
    {
     "name": "stdout",
     "output_type": "stream",
     "text": [
      "0    Nisreen\n",
      "1       Sara\n",
      "2        Tom\n",
      "3    Mohamed\n",
      "Name: Name, dtype: object\n"
     ]
    }
   ],
   "source": [
    "print(TeamData.loc[:3,\"Name\"])"
   ]
  },
  {
   "cell_type": "code",
   "execution_count": 64,
   "id": "adc94431",
   "metadata": {},
   "outputs": [
    {
     "name": "stdout",
     "output_type": "stream",
     "text": [
      "      Name                   Position  Salary  age  Age\n",
      "3  Mohamed      Manager,IT specialist   20000   23   23\n",
      "2      Tom              Web Developer   12000   25   25\n",
      "1     Sara             Graphic Design   10500   21   21\n",
      "0  Nisreen  Manager,Computer Engineer   20000   21   21\n"
     ]
    }
   ],
   "source": [
    "print(TeamData.loc[::-1])"
   ]
  },
  {
   "cell_type": "code",
   "execution_count": 65,
   "id": "4af310ad",
   "metadata": {},
   "outputs": [
    {
     "name": "stdout",
     "output_type": "stream",
     "text": [
      "   Age   Bool\n",
      "0   21  False\n",
      "1   21  False\n",
      "2   25   True\n",
      "3   23  False\n"
     ]
    }
   ],
   "source": [
    "TeamFilter= TeamData.age>23\n",
    "TeamData[\"Bool\"]=TeamFilter\n",
    "print(TeamData.loc[:,[\"Age\",\"Bool\"]])"
   ]
  },
  {
   "cell_type": "code",
   "execution_count": 66,
   "id": "8eb44ce2",
   "metadata": {},
   "outputs": [],
   "source": [
    "del TeamData[\"age\"]"
   ]
  },
  {
   "cell_type": "code",
   "execution_count": 67,
   "id": "6626c15a",
   "metadata": {},
   "outputs": [
    {
     "name": "stdout",
     "output_type": "stream",
     "text": [
      "      Name                   Position  Salary  Age   Bool\n",
      "0  Nisreen  Manager,Computer Engineer   20000   21  False\n",
      "1     Sara             Graphic Design   10500   21  False\n",
      "2      Tom              Web Developer   12000   25   True\n",
      "3  Mohamed      Manager,IT specialist   20000   23  False\n"
     ]
    }
   ],
   "source": [
    "print(TeamData)"
   ]
  },
  {
   "cell_type": "code",
   "execution_count": 69,
   "id": "07a06ad1",
   "metadata": {},
   "outputs": [
    {
     "name": "stdout",
     "output_type": "stream",
     "text": [
      "  Name       Position  Salary  Age  Bool\n",
      "2  Tom  Web Developer   12000   25  True\n"
     ]
    }
   ],
   "source": [
    "TeamFilter2 = TeamData.Salary<20000\n",
    "Filtered=TeamData[TeamFilter&TeamFilter2]\n",
    "print(Filtered)"
   ]
  },
  {
   "cell_type": "code",
   "execution_count": 70,
   "id": "6bdbd8c0",
   "metadata": {},
   "outputs": [
    {
     "data": {
      "text/html": [
       "<div>\n",
       "<style scoped>\n",
       "    .dataframe tbody tr th:only-of-type {\n",
       "        vertical-align: middle;\n",
       "    }\n",
       "\n",
       "    .dataframe tbody tr th {\n",
       "        vertical-align: top;\n",
       "    }\n",
       "\n",
       "    .dataframe thead th {\n",
       "        text-align: right;\n",
       "    }\n",
       "</style>\n",
       "<table border=\"1\" class=\"dataframe\">\n",
       "  <thead>\n",
       "    <tr style=\"text-align: right;\">\n",
       "      <th></th>\n",
       "      <th>Name</th>\n",
       "      <th>Position</th>\n",
       "      <th>Salary</th>\n",
       "      <th>Age</th>\n",
       "      <th>Bool</th>\n",
       "    </tr>\n",
       "  </thead>\n",
       "  <tbody>\n",
       "    <tr>\n",
       "      <th>0</th>\n",
       "      <td>Nisreen</td>\n",
       "      <td>Manager,Computer Engineer</td>\n",
       "      <td>20000</td>\n",
       "      <td>21</td>\n",
       "      <td>False</td>\n",
       "    </tr>\n",
       "    <tr>\n",
       "      <th>1</th>\n",
       "      <td>Sara</td>\n",
       "      <td>Graphic Design</td>\n",
       "      <td>10500</td>\n",
       "      <td>21</td>\n",
       "      <td>False</td>\n",
       "    </tr>\n",
       "    <tr>\n",
       "      <th>2</th>\n",
       "      <td>Tom</td>\n",
       "      <td>Web Developer</td>\n",
       "      <td>12000</td>\n",
       "      <td>25</td>\n",
       "      <td>True</td>\n",
       "    </tr>\n",
       "    <tr>\n",
       "      <th>3</th>\n",
       "      <td>Mohamed</td>\n",
       "      <td>Manager,IT specialist</td>\n",
       "      <td>20000</td>\n",
       "      <td>23</td>\n",
       "      <td>False</td>\n",
       "    </tr>\n",
       "  </tbody>\n",
       "</table>\n",
       "</div>"
      ],
      "text/plain": [
       "      Name                   Position  Salary  Age   Bool\n",
       "0  Nisreen  Manager,Computer Engineer   20000   21  False\n",
       "1     Sara             Graphic Design   10500   21  False\n",
       "2      Tom              Web Developer   12000   25   True\n",
       "3  Mohamed      Manager,IT specialist   20000   23  False"
      ]
     },
     "execution_count": 70,
     "metadata": {},
     "output_type": "execute_result"
    }
   ],
   "source": [
    "TeamData.dropna(inplace=True)\n",
    "TeamData"
   ]
  },
  {
   "cell_type": "code",
   "execution_count": 80,
   "id": "11dc8204",
   "metadata": {},
   "outputs": [
    {
     "data": {
      "text/html": [
       "<div>\n",
       "<style scoped>\n",
       "    .dataframe tbody tr th:only-of-type {\n",
       "        vertical-align: middle;\n",
       "    }\n",
       "\n",
       "    .dataframe tbody tr th {\n",
       "        vertical-align: top;\n",
       "    }\n",
       "\n",
       "    .dataframe thead th {\n",
       "        text-align: right;\n",
       "    }\n",
       "</style>\n",
       "<table border=\"1\" class=\"dataframe\">\n",
       "  <thead>\n",
       "    <tr style=\"text-align: right;\">\n",
       "      <th></th>\n",
       "      <th>Name</th>\n",
       "      <th>Position</th>\n",
       "      <th>Salary</th>\n",
       "      <th>Age</th>\n",
       "      <th>Bool</th>\n",
       "      <th>WorkPlace</th>\n",
       "    </tr>\n",
       "  </thead>\n",
       "  <tbody>\n",
       "    <tr>\n",
       "      <th>0</th>\n",
       "      <td>Nisreen</td>\n",
       "      <td>Manager,Computer Engineer</td>\n",
       "      <td>20000</td>\n",
       "      <td>21</td>\n",
       "      <td>False</td>\n",
       "      <td>On-Site</td>\n",
       "    </tr>\n",
       "    <tr>\n",
       "      <th>1</th>\n",
       "      <td>Sara</td>\n",
       "      <td>Graphic Design</td>\n",
       "      <td>10500</td>\n",
       "      <td>21</td>\n",
       "      <td>False</td>\n",
       "      <td>remote</td>\n",
       "    </tr>\n",
       "    <tr>\n",
       "      <th>2</th>\n",
       "      <td>Tom</td>\n",
       "      <td>Web Developer</td>\n",
       "      <td>12000</td>\n",
       "      <td>25</td>\n",
       "      <td>True</td>\n",
       "      <td>remote</td>\n",
       "    </tr>\n",
       "    <tr>\n",
       "      <th>3</th>\n",
       "      <td>Mohamed</td>\n",
       "      <td>Manager,IT specialist</td>\n",
       "      <td>20000</td>\n",
       "      <td>23</td>\n",
       "      <td>False</td>\n",
       "      <td>On-Site</td>\n",
       "    </tr>\n",
       "  </tbody>\n",
       "</table>\n",
       "</div>"
      ],
      "text/plain": [
       "      Name                   Position  Salary  Age   Bool WorkPlace\n",
       "0  Nisreen  Manager,Computer Engineer   20000   21  False   On-Site\n",
       "1     Sara             Graphic Design   10500   21  False    remote\n",
       "2      Tom              Web Developer   12000   25   True    remote\n",
       "3  Mohamed      Manager,IT specialist   20000   23  False   On-Site"
      ]
     },
     "execution_count": 80,
     "metadata": {},
     "output_type": "execute_result"
    }
   ],
   "source": [
    "TeamData[\"WorkPlace\"]=[\"remote\" if TeamData.Salary.mean()>each else \"On-Site\" for each in TeamData.Salary]\n",
    "TeamData\n"
   ]
  },
  {
   "cell_type": "code",
   "execution_count": 83,
   "id": "e82af30f",
   "metadata": {},
   "outputs": [
    {
     "data": {
      "text/html": [
       "<div>\n",
       "<style scoped>\n",
       "    .dataframe tbody tr th:only-of-type {\n",
       "        vertical-align: middle;\n",
       "    }\n",
       "\n",
       "    .dataframe tbody tr th {\n",
       "        vertical-align: top;\n",
       "    }\n",
       "\n",
       "    .dataframe thead th {\n",
       "        text-align: right;\n",
       "    }\n",
       "</style>\n",
       "<table border=\"1\" class=\"dataframe\">\n",
       "  <thead>\n",
       "    <tr style=\"text-align: right;\">\n",
       "      <th></th>\n",
       "      <th>Name</th>\n",
       "      <th>Position</th>\n",
       "      <th>Salary</th>\n",
       "      <th>Age</th>\n",
       "      <th>Bool</th>\n",
       "      <th>WorkPlace</th>\n",
       "    </tr>\n",
       "  </thead>\n",
       "  <tbody>\n",
       "    <tr>\n",
       "      <th>0</th>\n",
       "      <td>Nisreen</td>\n",
       "      <td>Manager,Computer Engineer</td>\n",
       "      <td>20000</td>\n",
       "      <td>21</td>\n",
       "      <td>False</td>\n",
       "      <td>On-Site</td>\n",
       "    </tr>\n",
       "    <tr>\n",
       "      <th>1</th>\n",
       "      <td>Sara</td>\n",
       "      <td>Graphic Design</td>\n",
       "      <td>10500</td>\n",
       "      <td>21</td>\n",
       "      <td>False</td>\n",
       "      <td>remote</td>\n",
       "    </tr>\n",
       "    <tr>\n",
       "      <th>2</th>\n",
       "      <td>Tom</td>\n",
       "      <td>Web Developer</td>\n",
       "      <td>12000</td>\n",
       "      <td>25</td>\n",
       "      <td>True</td>\n",
       "      <td>remote</td>\n",
       "    </tr>\n",
       "    <tr>\n",
       "      <th>3</th>\n",
       "      <td>Mohamed</td>\n",
       "      <td>Manager,IT specialist</td>\n",
       "      <td>20000</td>\n",
       "      <td>23</td>\n",
       "      <td>False</td>\n",
       "      <td>On-Site</td>\n",
       "    </tr>\n",
       "  </tbody>\n",
       "</table>\n",
       "</div>"
      ],
      "text/plain": [
       "      Name                   Position  Salary  Age   Bool WorkPlace\n",
       "0  Nisreen  Manager,Computer Engineer   20000   21  False   On-Site\n",
       "1     Sara             Graphic Design   10500   21  False    remote\n",
       "2      Tom              Web Developer   12000   25   True    remote\n",
       "3  Mohamed      Manager,IT specialist   20000   23  False   On-Site"
      ]
     },
     "execution_count": 83,
     "metadata": {},
     "output_type": "execute_result"
    }
   ],
   "source": [
    "TeamData.columns = [each.split('_')[0]+ \" \"+ each.split('_')[1] if len(each.split('_'))>1 else each for each in TeamData.columns]\n",
    "TeamData"
   ]
  },
  {
   "cell_type": "code",
   "execution_count": 84,
   "id": "fd9748e0",
   "metadata": {},
   "outputs": [
    {
     "data": {
      "text/plain": [
       "Index(['NAME', 'POSITION', 'SALARY', 'AGE', 'BOOL', 'WORKPLACE'], dtype='object')"
      ]
     },
     "execution_count": 84,
     "metadata": {},
     "output_type": "execute_result"
    }
   ],
   "source": [
    "TeamData.columns=[each.upper() for each in TeamData.columns]\n",
    "TeamData.columns"
   ]
  },
  {
   "cell_type": "code",
   "execution_count": 85,
   "id": "92ab75b6",
   "metadata": {},
   "outputs": [
    {
     "data": {
      "text/html": [
       "<div>\n",
       "<style scoped>\n",
       "    .dataframe tbody tr th:only-of-type {\n",
       "        vertical-align: middle;\n",
       "    }\n",
       "\n",
       "    .dataframe tbody tr th {\n",
       "        vertical-align: top;\n",
       "    }\n",
       "\n",
       "    .dataframe thead th {\n",
       "        text-align: right;\n",
       "    }\n",
       "</style>\n",
       "<table border=\"1\" class=\"dataframe\">\n",
       "  <thead>\n",
       "    <tr style=\"text-align: right;\">\n",
       "      <th></th>\n",
       "      <th>NAME</th>\n",
       "      <th>POSITION</th>\n",
       "      <th>SALARY</th>\n",
       "      <th>AGE</th>\n",
       "      <th>BOOL</th>\n",
       "      <th>WORKPLACE</th>\n",
       "    </tr>\n",
       "  </thead>\n",
       "  <tbody>\n",
       "    <tr>\n",
       "      <th>0</th>\n",
       "      <td>Nisreen</td>\n",
       "      <td>Manager,Computer Engineer</td>\n",
       "      <td>20000</td>\n",
       "      <td>21</td>\n",
       "      <td>False</td>\n",
       "      <td>On-Site</td>\n",
       "    </tr>\n",
       "    <tr>\n",
       "      <th>1</th>\n",
       "      <td>Sara</td>\n",
       "      <td>Graphic Design</td>\n",
       "      <td>10500</td>\n",
       "      <td>21</td>\n",
       "      <td>False</td>\n",
       "      <td>remote</td>\n",
       "    </tr>\n",
       "    <tr>\n",
       "      <th>2</th>\n",
       "      <td>Tom</td>\n",
       "      <td>Web Developer</td>\n",
       "      <td>12000</td>\n",
       "      <td>25</td>\n",
       "      <td>True</td>\n",
       "      <td>remote</td>\n",
       "    </tr>\n",
       "    <tr>\n",
       "      <th>3</th>\n",
       "      <td>Mohamed</td>\n",
       "      <td>Manager,IT specialist</td>\n",
       "      <td>20000</td>\n",
       "      <td>23</td>\n",
       "      <td>False</td>\n",
       "      <td>On-Site</td>\n",
       "    </tr>\n",
       "    <tr>\n",
       "      <th>0</th>\n",
       "      <td>Nisreen</td>\n",
       "      <td>Manager,Computer Engineer</td>\n",
       "      <td>20000</td>\n",
       "      <td>21</td>\n",
       "      <td>False</td>\n",
       "      <td>On-Site</td>\n",
       "    </tr>\n",
       "    <tr>\n",
       "      <th>1</th>\n",
       "      <td>Sara</td>\n",
       "      <td>Graphic Design</td>\n",
       "      <td>10500</td>\n",
       "      <td>21</td>\n",
       "      <td>False</td>\n",
       "      <td>remote</td>\n",
       "    </tr>\n",
       "    <tr>\n",
       "      <th>2</th>\n",
       "      <td>Tom</td>\n",
       "      <td>Web Developer</td>\n",
       "      <td>12000</td>\n",
       "      <td>25</td>\n",
       "      <td>True</td>\n",
       "      <td>remote</td>\n",
       "    </tr>\n",
       "    <tr>\n",
       "      <th>3</th>\n",
       "      <td>Mohamed</td>\n",
       "      <td>Manager,IT specialist</td>\n",
       "      <td>20000</td>\n",
       "      <td>23</td>\n",
       "      <td>False</td>\n",
       "      <td>On-Site</td>\n",
       "    </tr>\n",
       "  </tbody>\n",
       "</table>\n",
       "</div>"
      ],
      "text/plain": [
       "      NAME                   POSITION  SALARY  AGE   BOOL WORKPLACE\n",
       "0  Nisreen  Manager,Computer Engineer   20000   21  False   On-Site\n",
       "1     Sara             Graphic Design   10500   21  False    remote\n",
       "2      Tom              Web Developer   12000   25   True    remote\n",
       "3  Mohamed      Manager,IT specialist   20000   23  False   On-Site\n",
       "0  Nisreen  Manager,Computer Engineer   20000   21  False   On-Site\n",
       "1     Sara             Graphic Design   10500   21  False    remote\n",
       "2      Tom              Web Developer   12000   25   True    remote\n",
       "3  Mohamed      Manager,IT specialist   20000   23  False   On-Site"
      ]
     },
     "execution_count": 85,
     "metadata": {},
     "output_type": "execute_result"
    }
   ],
   "source": [
    "Data1=TeamData.head()\n",
    "Data2=TeamData.tail()\n",
    "connect=pd.concat([Data1,Data2],axis=0)\n",
    "connect"
   ]
  },
  {
   "cell_type": "code",
   "execution_count": 89,
   "id": "d3f6a0a2",
   "metadata": {},
   "outputs": [
    {
     "data": {
      "text/html": [
       "<div>\n",
       "<style scoped>\n",
       "    .dataframe tbody tr th:only-of-type {\n",
       "        vertical-align: middle;\n",
       "    }\n",
       "\n",
       "    .dataframe tbody tr th {\n",
       "        vertical-align: top;\n",
       "    }\n",
       "\n",
       "    .dataframe thead th {\n",
       "        text-align: right;\n",
       "    }\n",
       "</style>\n",
       "<table border=\"1\" class=\"dataframe\">\n",
       "  <thead>\n",
       "    <tr style=\"text-align: right;\">\n",
       "      <th></th>\n",
       "      <th>NAME</th>\n",
       "      <th>POSITION</th>\n",
       "      <th>SALARY</th>\n",
       "      <th>AGE</th>\n",
       "      <th>BOOL</th>\n",
       "      <th>WORKPLACE</th>\n",
       "      <th>Extra</th>\n",
       "    </tr>\n",
       "  </thead>\n",
       "  <tbody>\n",
       "    <tr>\n",
       "      <th>0</th>\n",
       "      <td>Nisreen</td>\n",
       "      <td>Manager,Computer Engineer</td>\n",
       "      <td>20000</td>\n",
       "      <td>21</td>\n",
       "      <td>False</td>\n",
       "      <td>On-Site</td>\n",
       "      <td>5000.0</td>\n",
       "    </tr>\n",
       "    <tr>\n",
       "      <th>1</th>\n",
       "      <td>Sara</td>\n",
       "      <td>Graphic Design</td>\n",
       "      <td>10500</td>\n",
       "      <td>21</td>\n",
       "      <td>False</td>\n",
       "      <td>remote</td>\n",
       "      <td>2625.0</td>\n",
       "    </tr>\n",
       "    <tr>\n",
       "      <th>2</th>\n",
       "      <td>Tom</td>\n",
       "      <td>Web Developer</td>\n",
       "      <td>12000</td>\n",
       "      <td>25</td>\n",
       "      <td>True</td>\n",
       "      <td>remote</td>\n",
       "      <td>3000.0</td>\n",
       "    </tr>\n",
       "    <tr>\n",
       "      <th>3</th>\n",
       "      <td>Mohamed</td>\n",
       "      <td>Manager,IT specialist</td>\n",
       "      <td>20000</td>\n",
       "      <td>23</td>\n",
       "      <td>False</td>\n",
       "      <td>On-Site</td>\n",
       "      <td>5000.0</td>\n",
       "    </tr>\n",
       "  </tbody>\n",
       "</table>\n",
       "</div>"
      ],
      "text/plain": [
       "      NAME                   POSITION  SALARY  AGE   BOOL WORKPLACE   Extra\n",
       "0  Nisreen  Manager,Computer Engineer   20000   21  False   On-Site  5000.0\n",
       "1     Sara             Graphic Design   10500   21  False    remote  2625.0\n",
       "2      Tom              Web Developer   12000   25   True    remote  3000.0\n",
       "3  Mohamed      Manager,IT specialist   20000   23  False   On-Site  5000.0"
      ]
     },
     "execution_count": 89,
     "metadata": {},
     "output_type": "execute_result"
    }
   ],
   "source": [
    "TeamData[\"Extra\"]= [each/4 for each in TeamData.SALARY]\n",
    "TeamData"
   ]
  },
  {
   "cell_type": "code",
   "execution_count": 90,
   "id": "6a2fcb8a",
   "metadata": {},
   "outputs": [
    {
     "data": {
      "text/html": [
       "<div>\n",
       "<style scoped>\n",
       "    .dataframe tbody tr th:only-of-type {\n",
       "        vertical-align: middle;\n",
       "    }\n",
       "\n",
       "    .dataframe tbody tr th {\n",
       "        vertical-align: top;\n",
       "    }\n",
       "\n",
       "    .dataframe thead th {\n",
       "        text-align: right;\n",
       "    }\n",
       "</style>\n",
       "<table border=\"1\" class=\"dataframe\">\n",
       "  <thead>\n",
       "    <tr style=\"text-align: right;\">\n",
       "      <th></th>\n",
       "      <th>NAME</th>\n",
       "      <th>POSITION</th>\n",
       "      <th>SALARY</th>\n",
       "      <th>AGE</th>\n",
       "      <th>BOOL</th>\n",
       "      <th>WORKPLACE</th>\n",
       "      <th>Extra</th>\n",
       "      <th>Bonus</th>\n",
       "    </tr>\n",
       "  </thead>\n",
       "  <tbody>\n",
       "    <tr>\n",
       "      <th>0</th>\n",
       "      <td>Nisreen</td>\n",
       "      <td>Manager,Computer Engineer</td>\n",
       "      <td>20000</td>\n",
       "      <td>21</td>\n",
       "      <td>False</td>\n",
       "      <td>On-Site</td>\n",
       "      <td>5000.0</td>\n",
       "      <td>1250.00</td>\n",
       "    </tr>\n",
       "    <tr>\n",
       "      <th>1</th>\n",
       "      <td>Sara</td>\n",
       "      <td>Graphic Design</td>\n",
       "      <td>10500</td>\n",
       "      <td>21</td>\n",
       "      <td>False</td>\n",
       "      <td>remote</td>\n",
       "      <td>2625.0</td>\n",
       "      <td>656.25</td>\n",
       "    </tr>\n",
       "    <tr>\n",
       "      <th>2</th>\n",
       "      <td>Tom</td>\n",
       "      <td>Web Developer</td>\n",
       "      <td>12000</td>\n",
       "      <td>25</td>\n",
       "      <td>True</td>\n",
       "      <td>remote</td>\n",
       "      <td>3000.0</td>\n",
       "      <td>750.00</td>\n",
       "    </tr>\n",
       "    <tr>\n",
       "      <th>3</th>\n",
       "      <td>Mohamed</td>\n",
       "      <td>Manager,IT specialist</td>\n",
       "      <td>20000</td>\n",
       "      <td>23</td>\n",
       "      <td>False</td>\n",
       "      <td>On-Site</td>\n",
       "      <td>5000.0</td>\n",
       "      <td>1250.00</td>\n",
       "    </tr>\n",
       "  </tbody>\n",
       "</table>\n",
       "</div>"
      ],
      "text/plain": [
       "      NAME                   POSITION  SALARY  AGE   BOOL WORKPLACE   Extra  \\\n",
       "0  Nisreen  Manager,Computer Engineer   20000   21  False   On-Site  5000.0   \n",
       "1     Sara             Graphic Design   10500   21  False    remote  2625.0   \n",
       "2      Tom              Web Developer   12000   25   True    remote  3000.0   \n",
       "3  Mohamed      Manager,IT specialist   20000   23  False   On-Site  5000.0   \n",
       "\n",
       "     Bonus  \n",
       "0  1250.00  \n",
       "1   656.25  \n",
       "2   750.00  \n",
       "3  1250.00  "
      ]
     },
     "execution_count": 90,
     "metadata": {},
     "output_type": "execute_result"
    }
   ],
   "source": [
    "def bonus(salary):\n",
    "    return salary/4\n",
    "TeamData[\"Bonus\"] = TeamData.Extra.apply(bonus)\n",
    "TeamData"
   ]
  },
  {
   "cell_type": "code",
   "execution_count": null,
   "id": "e2d2c8c7",
   "metadata": {},
   "outputs": [],
   "source": []
  }
 ],
 "metadata": {
  "kernelspec": {
   "display_name": "Python 3 (ipykernel)",
   "language": "python",
   "name": "python3"
  },
  "language_info": {
   "codemirror_mode": {
    "name": "ipython",
    "version": 3
   },
   "file_extension": ".py",
   "mimetype": "text/x-python",
   "name": "python",
   "nbconvert_exporter": "python",
   "pygments_lexer": "ipython3",
   "version": "3.9.13"
  }
 },
 "nbformat": 4,
 "nbformat_minor": 5
}
