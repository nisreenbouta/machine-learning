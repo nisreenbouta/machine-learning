{
 "cells": [
  {
   "cell_type": "code",
   "execution_count": 1,
   "id": "b539dd97",
   "metadata": {},
   "outputs": [
    {
     "name": "stdout",
     "output_type": "stream",
     "text": [
      "2\n",
      "1\n",
      "0\n",
      "-1\n"
     ]
    }
   ],
   "source": [
    "#for loop\n",
    "for x in range(2, -2, -1):\n",
    "    print(x)"
   ]
  },
  {
   "cell_type": "code",
   "execution_count": 26,
   "id": "d54cd1ea",
   "metadata": {},
   "outputs": [
    {
     "name": "stdout",
     "output_type": "stream",
     "text": [
      "The movies list includes: sci fi, Black and White, comedy\n"
     ]
    }
   ],
   "source": [
    "#list\n",
    "def list_elements(list_name, movie):\n",
    "    return \"The \" + list_name + \" list includes: \" + \", \".join(movie)\n",
    "print(list_elements(\"movies\", [\"sci fi\", \"Black and White\", \"comedy\"])) \n"
   ]
  },
  {
   "cell_type": "code",
   "execution_count": 7,
   "id": "7cccb155",
   "metadata": {},
   "outputs": [
    {
     "data": {
      "text/plain": [
       "list"
      ]
     },
     "execution_count": 7,
     "metadata": {},
     "output_type": "execute_result"
    }
   ],
   "source": [
    "mylist= [\"hello\",\"I'm\", \"nisreen\"]\n",
    "type(mylist)"
   ]
  },
  {
   "cell_type": "code",
   "execution_count": 11,
   "id": "723b6050",
   "metadata": {},
   "outputs": [
    {
     "data": {
      "text/plain": [
       "['hello', \"I'm\"]"
      ]
     },
     "execution_count": 11,
     "metadata": {},
     "output_type": "execute_result"
    }
   ],
   "source": [
    "mylist[0:2]"
   ]
  },
  {
   "cell_type": "code",
   "execution_count": 12,
   "id": "0490ed18",
   "metadata": {},
   "outputs": [
    {
     "name": "stdout",
     "output_type": "stream",
     "text": [
      "1 is odd\n",
      "\n",
      "2 is even\n",
      "\n",
      "3 is odd\n",
      "\n",
      "4 is even\n",
      "\n",
      "5 is odd\n",
      "\n",
      "6 is even\n",
      "\n",
      "7 is odd\n",
      "\n",
      "8 is even\n",
      "\n"
     ]
    }
   ],
   "source": [
    "numbers=[1,2,3,4,5,6,7,8]\n",
    "for num in numbers:\n",
    "    if(num%2==0):\n",
    "        result=\"{} is even\".format(num)+\"\\n\"\n",
    "        print(result)\n",
    "    else:\n",
    "        result2=\"{} is odd\".format(num)+\"\\n\"\n",
    "        print(result2)\n",
    "    "
   ]
  },
  {
   "cell_type": "code",
   "execution_count": 16,
   "id": "88f1f8cc",
   "metadata": {},
   "outputs": [
    {
     "name": "stdout",
     "output_type": "stream",
     "text": [
      "['January 2024', 'May 2025', 'April 2024', 'August 2024', 'September 2025', 'December 2024']\n"
     ]
    }
   ],
   "source": [
    "updated_years = []\n",
    "years = [\"January 2023\", \"May 2025\", \"April 2023\", \"August 2024\", \"September 2025\", \"December 2023\"]\n",
    "for year in years:\n",
    "    if year.endswith(\"2023\"):\n",
    "        new = year.replace(\"2023\",\"2024\")\n",
    "        updated_years.append(new)\n",
    "    else:\n",
    "        updated_years.append(year)\n",
    "print(updated_years) "
   ]
  },
  {
   "cell_type": "code",
   "execution_count": 23,
   "id": "f8ace85a",
   "metadata": {},
   "outputs": [
    {
     "name": "stdout",
     "output_type": "stream",
     "text": [
      "83 96\n"
     ]
    }
   ],
   "source": [
    "def order_numbers(number1, number2):\n",
    "    if number2 > number1:\n",
    "        return number1, number2\n",
    "    else:\n",
    "        return number2, number1\n",
    "smaller, bigger = order_numbers(96, 83)\n",
    "print(smaller, bigger)"
   ]
  },
  {
   "cell_type": "code",
   "execution_count": 29,
   "id": "e92a7417",
   "metadata": {},
   "outputs": [
    {
     "name": "stdout",
     "output_type": "stream",
     "text": [
      "6x1=6\n",
      "6x2=12\n",
      "6x3=18\n",
      "6x4=24\n",
      "6x5=30\n",
      "6x6=36\n",
      "9x1=9\n",
      "9x2=18\n",
      "9x3=27\n",
      "9x4=36\n",
      "9x5=45\n"
     ]
    }
   ],
   "source": [
    "def multiplication_table(number):\n",
    "    multiplier = 1\n",
    "    while multiplier<=6:\n",
    "        result = number * multiplier \n",
    "        if  result > 45 :\n",
    "            break\n",
    "        print(str(number) + \"x\" + str(multiplier) + \"=\" + str(result))\n",
    "        multiplier += 1\n",
    "multiplication_table(6) \n",
    "multiplication_table(9) "
   ]
  },
  {
   "cell_type": "code",
   "execution_count": 38,
   "id": "f3c5b9e0",
   "metadata": {},
   "outputs": [
    {
     "name": "stdout",
     "output_type": "stream",
     "text": [
      "['github/nisreen.bouta', 'github/roula', 'github/nada', 'kaggle/mohamed', 'kaggle/nisreen', 'linkedin/alex', 'linkedin/max']\n"
     ]
    }
   ],
   "source": [
    "#dictionary\n",
    "def link_list(websites):\n",
    "    links = []\n",
    "    for website, users in websites.items():\n",
    "      for user in users:\n",
    "        links.append(website+\"/\"+user)\n",
    "    return(links)\n",
    "\n",
    "print(link_list({\"github\": [\"nisreen.bouta\", \"roula\", \"nada\"], \"kaggle\": [\"mohamed\", \"nisreen\"], \"linkedin\": [\"alex\",\"max\"]}))"
   ]
  },
  {
   "cell_type": "code",
   "execution_count": 48,
   "id": "aea552d2",
   "metadata": {},
   "outputs": [
    {
     "data": {
      "text/plain": [
       "dict_keys(['apple', 'watermelon', 'banana'])"
      ]
     },
     "execution_count": 48,
     "metadata": {},
     "output_type": "execute_result"
    }
   ],
   "source": [
    "fruits={\"apple\": [\"red\", \"green\",\"yellow\"], \"watermelon\": [\"red\", \"yellow\"], \"banana\": [\"yellow\"]}\n",
    "fruits.keys()"
   ]
  },
  {
   "cell_type": "code",
   "execution_count": 49,
   "id": "96eb52b8",
   "metadata": {},
   "outputs": [
    {
     "data": {
      "text/plain": [
       "dict_values([['red', 'green', 'yellow'], ['red', 'yellow'], ['yellow']])"
      ]
     },
     "execution_count": 49,
     "metadata": {},
     "output_type": "execute_result"
    }
   ],
   "source": [
    "fruits.values()"
   ]
  },
  {
   "cell_type": "code",
   "execution_count": 50,
   "id": "db79590a",
   "metadata": {},
   "outputs": [
    {
     "data": {
      "text/plain": [
       "dict_items([('apple', ['red', 'green', 'yellow']), ('watermelon', ['red', 'yellow']), ('banana', ['yellow'])])"
      ]
     },
     "execution_count": 50,
     "metadata": {},
     "output_type": "execute_result"
    }
   ],
   "source": [
    "fruits.items()"
   ]
  },
  {
   "cell_type": "code",
   "execution_count": 51,
   "id": "9564bcec",
   "metadata": {},
   "outputs": [],
   "source": [
    "fruits[\"banana\"].append(\"green\")\n"
   ]
  },
  {
   "cell_type": "code",
   "execution_count": 52,
   "id": "27591b60",
   "metadata": {},
   "outputs": [
    {
     "data": {
      "text/plain": [
       "dict_items([('apple', ['red', 'green', 'yellow']), ('watermelon', ['red', 'yellow']), ('banana', ['yellow', 'green'])])"
      ]
     },
     "execution_count": 52,
     "metadata": {},
     "output_type": "execute_result"
    }
   ],
   "source": [
    "fruits.items()"
   ]
  },
  {
   "cell_type": "code",
   "execution_count": null,
   "id": "510ba918",
   "metadata": {},
   "outputs": [],
   "source": []
  }
 ],
 "metadata": {
  "kernelspec": {
   "display_name": "Python 3 (ipykernel)",
   "language": "python",
   "name": "python3"
  },
  "language_info": {
   "codemirror_mode": {
    "name": "ipython",
    "version": 3
   },
   "file_extension": ".py",
   "mimetype": "text/x-python",
   "name": "python",
   "nbconvert_exporter": "python",
   "pygments_lexer": "ipython3",
   "version": "3.9.13"
  }
 },
 "nbformat": 4,
 "nbformat_minor": 5
}
