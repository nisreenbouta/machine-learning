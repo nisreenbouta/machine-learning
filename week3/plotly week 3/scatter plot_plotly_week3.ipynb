{
 "cells": [
  {
   "cell_type": "code",
   "execution_count": 6,
   "id": "2f15359a",
   "metadata": {},
   "outputs": [],
   "source": [
    "import pandas as pd\n",
    "import numpy as np\n",
    "import matplotlib.pyplot as plt\n",
    "from plotly.offline import iplot\n",
    "import plotly.graph_objs as go\n"
   ]
  },
  {
   "cell_type": "code",
   "execution_count": 2,
   "id": "810c8692",
   "metadata": {},
   "outputs": [
    {
     "name": "stdout",
     "output_type": "stream",
     "text": [
      "Requirement already satisfied: plotly in c:\\users\\nisreen\\anaconda3\\lib\\site-packages (5.13.1)\n",
      "Requirement already satisfied: tenacity>=6.2.0 in c:\\users\\nisreen\\anaconda3\\lib\\site-packages (from plotly) (8.0.1)\n"
     ]
    }
   ],
   "source": [
    "!pip install --upgrade plotly"
   ]
  },
  {
   "cell_type": "code",
   "execution_count": 3,
   "id": "ee3aabb1",
   "metadata": {},
   "outputs": [
    {
     "name": "stdout",
     "output_type": "stream",
     "text": [
      "Collecting jupyter-dash\n",
      "  Downloading jupyter_dash-0.4.2-py3-none-any.whl (23 kB)\n",
      "Requirement already satisfied: ipykernel in c:\\users\\nisreen\\anaconda3\\lib\\site-packages (from jupyter-dash) (6.15.2)\n",
      "Requirement already satisfied: nest-asyncio in c:\\users\\nisreen\\anaconda3\\lib\\site-packages (from jupyter-dash) (1.5.5)\n",
      "Collecting retrying\n",
      "  Downloading retrying-1.3.4-py3-none-any.whl (11 kB)\n",
      "Collecting dash\n",
      "  Downloading dash-2.9.0-py3-none-any.whl (10.2 MB)\n",
      "     -------------------------------------- 10.2/10.2 MB 190.3 kB/s eta 0:00:00\n",
      "Requirement already satisfied: requests in c:\\users\\nisreen\\anaconda3\\lib\\site-packages (from jupyter-dash) (2.28.1)\n",
      "Requirement already satisfied: flask in c:\\users\\nisreen\\anaconda3\\lib\\site-packages (from jupyter-dash) (1.1.2)\n",
      "Collecting ansi2html\n",
      "  Downloading ansi2html-1.8.0-py3-none-any.whl (16 kB)\n",
      "Requirement already satisfied: ipython in c:\\users\\nisreen\\anaconda3\\lib\\site-packages (from jupyter-dash) (7.31.1)\n",
      "Collecting dash-table==5.0.0\n",
      "  Downloading dash_table-5.0.0-py3-none-any.whl (3.9 kB)\n",
      "Collecting dash-core-components==2.0.0\n",
      "  Downloading dash_core_components-2.0.0-py3-none-any.whl (3.8 kB)\n",
      "Requirement already satisfied: plotly>=5.0.0 in c:\\users\\nisreen\\anaconda3\\lib\\site-packages (from dash->jupyter-dash) (5.13.1)\n",
      "Collecting dash-html-components==2.0.0\n",
      "  Downloading dash_html_components-2.0.0-py3-none-any.whl (4.1 kB)\n",
      "Requirement already satisfied: click>=5.1 in c:\\users\\nisreen\\anaconda3\\lib\\site-packages (from flask->jupyter-dash) (8.0.4)\n",
      "Requirement already satisfied: Werkzeug>=0.15 in c:\\users\\nisreen\\anaconda3\\lib\\site-packages (from flask->jupyter-dash) (2.0.3)\n",
      "Requirement already satisfied: itsdangerous>=0.24 in c:\\users\\nisreen\\anaconda3\\lib\\site-packages (from flask->jupyter-dash) (2.0.1)\n",
      "Requirement already satisfied: Jinja2>=2.10.1 in c:\\users\\nisreen\\anaconda3\\lib\\site-packages (from flask->jupyter-dash) (2.11.3)\n",
      "Requirement already satisfied: tornado>=6.1 in c:\\users\\nisreen\\anaconda3\\lib\\site-packages (from ipykernel->jupyter-dash) (6.1)\n",
      "Requirement already satisfied: traitlets>=5.1.0 in c:\\users\\nisreen\\anaconda3\\lib\\site-packages (from ipykernel->jupyter-dash) (5.1.1)\n",
      "Requirement already satisfied: pyzmq>=17 in c:\\users\\nisreen\\anaconda3\\lib\\site-packages (from ipykernel->jupyter-dash) (23.2.0)\n",
      "Requirement already satisfied: jupyter-client>=6.1.12 in c:\\users\\nisreen\\anaconda3\\lib\\site-packages (from ipykernel->jupyter-dash) (7.3.4)\n",
      "Requirement already satisfied: psutil in c:\\users\\nisreen\\anaconda3\\lib\\site-packages (from ipykernel->jupyter-dash) (5.9.0)\n",
      "Requirement already satisfied: matplotlib-inline>=0.1 in c:\\users\\nisreen\\anaconda3\\lib\\site-packages (from ipykernel->jupyter-dash) (0.1.6)\n",
      "Requirement already satisfied: packaging in c:\\users\\nisreen\\anaconda3\\lib\\site-packages (from ipykernel->jupyter-dash) (21.3)\n",
      "Requirement already satisfied: debugpy>=1.0 in c:\\users\\nisreen\\anaconda3\\lib\\site-packages (from ipykernel->jupyter-dash) (1.5.1)\n",
      "Requirement already satisfied: decorator in c:\\users\\nisreen\\anaconda3\\lib\\site-packages (from ipython->jupyter-dash) (5.1.1)\n",
      "Requirement already satisfied: setuptools>=18.5 in c:\\users\\nisreen\\anaconda3\\lib\\site-packages (from ipython->jupyter-dash) (63.4.1)\n",
      "Requirement already satisfied: pygments in c:\\users\\nisreen\\anaconda3\\lib\\site-packages (from ipython->jupyter-dash) (2.11.2)\n",
      "Requirement already satisfied: prompt-toolkit!=3.0.0,!=3.0.1,<3.1.0,>=2.0.0 in c:\\users\\nisreen\\anaconda3\\lib\\site-packages (from ipython->jupyter-dash) (3.0.20)\n",
      "Requirement already satisfied: jedi>=0.16 in c:\\users\\nisreen\\anaconda3\\lib\\site-packages (from ipython->jupyter-dash) (0.18.1)\n",
      "Requirement already satisfied: pickleshare in c:\\users\\nisreen\\anaconda3\\lib\\site-packages (from ipython->jupyter-dash) (0.7.5)\n",
      "Requirement already satisfied: backcall in c:\\users\\nisreen\\anaconda3\\lib\\site-packages (from ipython->jupyter-dash) (0.2.0)\n",
      "Requirement already satisfied: colorama in c:\\users\\nisreen\\anaconda3\\lib\\site-packages (from ipython->jupyter-dash) (0.4.5)\n",
      "Requirement already satisfied: urllib3<1.27,>=1.21.1 in c:\\users\\nisreen\\anaconda3\\lib\\site-packages (from requests->jupyter-dash) (1.26.11)\n",
      "Requirement already satisfied: idna<4,>=2.5 in c:\\users\\nisreen\\anaconda3\\lib\\site-packages (from requests->jupyter-dash) (3.3)\n",
      "Requirement already satisfied: certifi>=2017.4.17 in c:\\users\\nisreen\\anaconda3\\lib\\site-packages (from requests->jupyter-dash) (2022.9.14)\n",
      "Requirement already satisfied: charset-normalizer<3,>=2 in c:\\users\\nisreen\\anaconda3\\lib\\site-packages (from requests->jupyter-dash) (2.0.4)\n",
      "Requirement already satisfied: six>=1.7.0 in c:\\users\\nisreen\\anaconda3\\lib\\site-packages (from retrying->jupyter-dash) (1.16.0)\n",
      "Requirement already satisfied: parso<0.9.0,>=0.8.0 in c:\\users\\nisreen\\anaconda3\\lib\\site-packages (from jedi>=0.16->ipython->jupyter-dash) (0.8.3)\n",
      "Requirement already satisfied: MarkupSafe>=0.23 in c:\\users\\nisreen\\anaconda3\\lib\\site-packages (from Jinja2>=2.10.1->flask->jupyter-dash) (2.0.1)\n",
      "Requirement already satisfied: entrypoints in c:\\users\\nisreen\\anaconda3\\lib\\site-packages (from jupyter-client>=6.1.12->ipykernel->jupyter-dash) (0.4)\n",
      "Requirement already satisfied: jupyter-core>=4.9.2 in c:\\users\\nisreen\\anaconda3\\lib\\site-packages (from jupyter-client>=6.1.12->ipykernel->jupyter-dash) (4.11.1)\n",
      "Requirement already satisfied: python-dateutil>=2.8.2 in c:\\users\\nisreen\\anaconda3\\lib\\site-packages (from jupyter-client>=6.1.12->ipykernel->jupyter-dash) (2.8.2)\n",
      "Requirement already satisfied: tenacity>=6.2.0 in c:\\users\\nisreen\\anaconda3\\lib\\site-packages (from plotly>=5.0.0->dash->jupyter-dash) (8.0.1)\n",
      "Requirement already satisfied: wcwidth in c:\\users\\nisreen\\anaconda3\\lib\\site-packages (from prompt-toolkit!=3.0.0,!=3.0.1,<3.1.0,>=2.0.0->ipython->jupyter-dash) (0.2.5)\n",
      "Requirement already satisfied: pyparsing!=3.0.5,>=2.0.2 in c:\\users\\nisreen\\anaconda3\\lib\\site-packages (from packaging->ipykernel->jupyter-dash) (3.0.9)\n",
      "Requirement already satisfied: pywin32>=1.0 in c:\\users\\nisreen\\anaconda3\\lib\\site-packages (from jupyter-core>=4.9.2->jupyter-client>=6.1.12->ipykernel->jupyter-dash) (302)\n",
      "Installing collected packages: dash-table, dash-html-components, dash-core-components, retrying, ansi2html, dash, jupyter-dash\n",
      "Successfully installed ansi2html-1.8.0 dash-2.9.0 dash-core-components-2.0.0 dash-html-components-2.0.0 dash-table-5.0.0 jupyter-dash-0.4.2 retrying-1.3.4\n"
     ]
    }
   ],
   "source": [
    "!pip install jupyter-dash"
   ]
  },
  {
   "cell_type": "code",
   "execution_count": 7,
   "id": "43755111",
   "metadata": {},
   "outputs": [],
   "source": [
    "employment_data = pd.read_csv(\"e:/Nisreen/Desktop/machine learning/employment.csv\")"
   ]
  },
  {
   "cell_type": "code",
   "execution_count": 8,
   "id": "0880e747",
   "metadata": {},
   "outputs": [
    {
     "data": {
      "text/html": [
       "<div>\n",
       "<style scoped>\n",
       "    .dataframe tbody tr th:only-of-type {\n",
       "        vertical-align: middle;\n",
       "    }\n",
       "\n",
       "    .dataframe tbody tr th {\n",
       "        vertical-align: top;\n",
       "    }\n",
       "\n",
       "    .dataframe thead th {\n",
       "        text-align: right;\n",
       "    }\n",
       "</style>\n",
       "<table border=\"1\" class=\"dataframe\">\n",
       "  <thead>\n",
       "    <tr style=\"text-align: right;\">\n",
       "      <th></th>\n",
       "      <th>Series_reference</th>\n",
       "      <th>Period</th>\n",
       "      <th>Data_value</th>\n",
       "      <th>Suppressed</th>\n",
       "      <th>STATUS</th>\n",
       "      <th>UNITS</th>\n",
       "      <th>Magnitude</th>\n",
       "      <th>Subject</th>\n",
       "      <th>Group</th>\n",
       "      <th>Series_title_1</th>\n",
       "      <th>Series_title_2</th>\n",
       "      <th>Series_title_3</th>\n",
       "      <th>Series_title_4</th>\n",
       "      <th>Series_title_5</th>\n",
       "    </tr>\n",
       "  </thead>\n",
       "  <tbody>\n",
       "    <tr>\n",
       "      <th>0</th>\n",
       "      <td>BDCQ.SEA1AA</td>\n",
       "      <td>2011.06</td>\n",
       "      <td>80078.0</td>\n",
       "      <td>NaN</td>\n",
       "      <td>F</td>\n",
       "      <td>Number</td>\n",
       "      <td>0</td>\n",
       "      <td>Business Data Collection - BDC</td>\n",
       "      <td>Industry by employment variable</td>\n",
       "      <td>Filled jobs</td>\n",
       "      <td>Agriculture, Forestry and Fishing</td>\n",
       "      <td>Actual</td>\n",
       "      <td>NaN</td>\n",
       "      <td>NaN</td>\n",
       "    </tr>\n",
       "    <tr>\n",
       "      <th>1</th>\n",
       "      <td>BDCQ.SEA1AA</td>\n",
       "      <td>2011.09</td>\n",
       "      <td>78324.0</td>\n",
       "      <td>NaN</td>\n",
       "      <td>F</td>\n",
       "      <td>Number</td>\n",
       "      <td>0</td>\n",
       "      <td>Business Data Collection - BDC</td>\n",
       "      <td>Industry by employment variable</td>\n",
       "      <td>Filled jobs</td>\n",
       "      <td>Agriculture, Forestry and Fishing</td>\n",
       "      <td>Actual</td>\n",
       "      <td>NaN</td>\n",
       "      <td>NaN</td>\n",
       "    </tr>\n",
       "    <tr>\n",
       "      <th>2</th>\n",
       "      <td>BDCQ.SEA1AA</td>\n",
       "      <td>2011.12</td>\n",
       "      <td>85850.0</td>\n",
       "      <td>NaN</td>\n",
       "      <td>F</td>\n",
       "      <td>Number</td>\n",
       "      <td>0</td>\n",
       "      <td>Business Data Collection - BDC</td>\n",
       "      <td>Industry by employment variable</td>\n",
       "      <td>Filled jobs</td>\n",
       "      <td>Agriculture, Forestry and Fishing</td>\n",
       "      <td>Actual</td>\n",
       "      <td>NaN</td>\n",
       "      <td>NaN</td>\n",
       "    </tr>\n",
       "    <tr>\n",
       "      <th>3</th>\n",
       "      <td>BDCQ.SEA1AA</td>\n",
       "      <td>2012.03</td>\n",
       "      <td>90743.0</td>\n",
       "      <td>NaN</td>\n",
       "      <td>F</td>\n",
       "      <td>Number</td>\n",
       "      <td>0</td>\n",
       "      <td>Business Data Collection - BDC</td>\n",
       "      <td>Industry by employment variable</td>\n",
       "      <td>Filled jobs</td>\n",
       "      <td>Agriculture, Forestry and Fishing</td>\n",
       "      <td>Actual</td>\n",
       "      <td>NaN</td>\n",
       "      <td>NaN</td>\n",
       "    </tr>\n",
       "    <tr>\n",
       "      <th>4</th>\n",
       "      <td>BDCQ.SEA1AA</td>\n",
       "      <td>2012.06</td>\n",
       "      <td>81780.0</td>\n",
       "      <td>NaN</td>\n",
       "      <td>F</td>\n",
       "      <td>Number</td>\n",
       "      <td>0</td>\n",
       "      <td>Business Data Collection - BDC</td>\n",
       "      <td>Industry by employment variable</td>\n",
       "      <td>Filled jobs</td>\n",
       "      <td>Agriculture, Forestry and Fishing</td>\n",
       "      <td>Actual</td>\n",
       "      <td>NaN</td>\n",
       "      <td>NaN</td>\n",
       "    </tr>\n",
       "  </tbody>\n",
       "</table>\n",
       "</div>"
      ],
      "text/plain": [
       "  Series_reference   Period  Data_value Suppressed STATUS   UNITS  Magnitude  \\\n",
       "0      BDCQ.SEA1AA  2011.06     80078.0        NaN      F  Number          0   \n",
       "1      BDCQ.SEA1AA  2011.09     78324.0        NaN      F  Number          0   \n",
       "2      BDCQ.SEA1AA  2011.12     85850.0        NaN      F  Number          0   \n",
       "3      BDCQ.SEA1AA  2012.03     90743.0        NaN      F  Number          0   \n",
       "4      BDCQ.SEA1AA  2012.06     81780.0        NaN      F  Number          0   \n",
       "\n",
       "                          Subject                            Group  \\\n",
       "0  Business Data Collection - BDC  Industry by employment variable   \n",
       "1  Business Data Collection - BDC  Industry by employment variable   \n",
       "2  Business Data Collection - BDC  Industry by employment variable   \n",
       "3  Business Data Collection - BDC  Industry by employment variable   \n",
       "4  Business Data Collection - BDC  Industry by employment variable   \n",
       "\n",
       "  Series_title_1                     Series_title_2 Series_title_3  \\\n",
       "0    Filled jobs  Agriculture, Forestry and Fishing         Actual   \n",
       "1    Filled jobs  Agriculture, Forestry and Fishing         Actual   \n",
       "2    Filled jobs  Agriculture, Forestry and Fishing         Actual   \n",
       "3    Filled jobs  Agriculture, Forestry and Fishing         Actual   \n",
       "4    Filled jobs  Agriculture, Forestry and Fishing         Actual   \n",
       "\n",
       "   Series_title_4  Series_title_5  \n",
       "0             NaN             NaN  \n",
       "1             NaN             NaN  \n",
       "2             NaN             NaN  \n",
       "3             NaN             NaN  \n",
       "4             NaN             NaN  "
      ]
     },
     "execution_count": 8,
     "metadata": {},
     "output_type": "execute_result"
    }
   ],
   "source": [
    "employment_data.head()"
   ]
  },
  {
   "cell_type": "code",
   "execution_count": 9,
   "id": "8ae6e940",
   "metadata": {},
   "outputs": [
    {
     "data": {
      "text/html": [
       "<div>\n",
       "<style scoped>\n",
       "    .dataframe tbody tr th:only-of-type {\n",
       "        vertical-align: middle;\n",
       "    }\n",
       "\n",
       "    .dataframe tbody tr th {\n",
       "        vertical-align: top;\n",
       "    }\n",
       "\n",
       "    .dataframe thead th {\n",
       "        text-align: right;\n",
       "    }\n",
       "</style>\n",
       "<table border=\"1\" class=\"dataframe\">\n",
       "  <thead>\n",
       "    <tr style=\"text-align: right;\">\n",
       "      <th></th>\n",
       "      <th>Series_reference</th>\n",
       "      <th>Period</th>\n",
       "      <th>Data_value</th>\n",
       "      <th>Suppressed</th>\n",
       "      <th>STATUS</th>\n",
       "      <th>UNITS</th>\n",
       "      <th>Magnitude</th>\n",
       "      <th>Subject</th>\n",
       "      <th>Group</th>\n",
       "      <th>Series_title_1</th>\n",
       "      <th>Series_title_2</th>\n",
       "      <th>Series_title_3</th>\n",
       "      <th>Series_title_4</th>\n",
       "      <th>Series_title_5</th>\n",
       "    </tr>\n",
       "  </thead>\n",
       "  <tbody>\n",
       "    <tr>\n",
       "      <th>0</th>\n",
       "      <td>BDCQ.SEA1AA</td>\n",
       "      <td>2011.06</td>\n",
       "      <td>80078.000000</td>\n",
       "      <td>NaN</td>\n",
       "      <td>F</td>\n",
       "      <td>Number</td>\n",
       "      <td>0</td>\n",
       "      <td>Business Data Collection - BDC</td>\n",
       "      <td>Industry by employment variable</td>\n",
       "      <td>Filled jobs</td>\n",
       "      <td>Agriculture, Forestry and Fishing</td>\n",
       "      <td>Actual</td>\n",
       "      <td>NaN</td>\n",
       "      <td>NaN</td>\n",
       "    </tr>\n",
       "    <tr>\n",
       "      <th>46</th>\n",
       "      <td>BDCQ.SEA1AS</td>\n",
       "      <td>2011.06</td>\n",
       "      <td>83971.000000</td>\n",
       "      <td>NaN</td>\n",
       "      <td>R</td>\n",
       "      <td>Number</td>\n",
       "      <td>0</td>\n",
       "      <td>Business Data Collection - BDC</td>\n",
       "      <td>Industry by employment variable</td>\n",
       "      <td>Filled jobs</td>\n",
       "      <td>Agriculture, Forestry and Fishing</td>\n",
       "      <td>Seasonally adjusted</td>\n",
       "      <td>NaN</td>\n",
       "      <td>NaN</td>\n",
       "    </tr>\n",
       "    <tr>\n",
       "      <th>92</th>\n",
       "      <td>BDCQ.SEA1AT</td>\n",
       "      <td>2011.06</td>\n",
       "      <td>NaN</td>\n",
       "      <td>NaN</td>\n",
       "      <td>C</td>\n",
       "      <td>Number</td>\n",
       "      <td>0</td>\n",
       "      <td>Business Data Collection - BDC</td>\n",
       "      <td>Industry by employment variable</td>\n",
       "      <td>Filled jobs</td>\n",
       "      <td>Agriculture, Forestry and Fishing</td>\n",
       "      <td>Trend</td>\n",
       "      <td>NaN</td>\n",
       "      <td>NaN</td>\n",
       "    </tr>\n",
       "    <tr>\n",
       "      <th>138</th>\n",
       "      <td>BDCQ.SEA1BA</td>\n",
       "      <td>2011.06</td>\n",
       "      <td>5234.000000</td>\n",
       "      <td>NaN</td>\n",
       "      <td>F</td>\n",
       "      <td>Number</td>\n",
       "      <td>0</td>\n",
       "      <td>Business Data Collection - BDC</td>\n",
       "      <td>Industry by employment variable</td>\n",
       "      <td>Filled jobs</td>\n",
       "      <td>Mining</td>\n",
       "      <td>Actual</td>\n",
       "      <td>NaN</td>\n",
       "      <td>NaN</td>\n",
       "    </tr>\n",
       "    <tr>\n",
       "      <th>184</th>\n",
       "      <td>BDCQ.SEA1BS</td>\n",
       "      <td>2011.06</td>\n",
       "      <td>5234.000000</td>\n",
       "      <td>NaN</td>\n",
       "      <td>R</td>\n",
       "      <td>Number</td>\n",
       "      <td>0</td>\n",
       "      <td>Business Data Collection - BDC</td>\n",
       "      <td>Industry by employment variable</td>\n",
       "      <td>Filled jobs</td>\n",
       "      <td>Mining</td>\n",
       "      <td>Seasonally adjusted</td>\n",
       "      <td>NaN</td>\n",
       "      <td>NaN</td>\n",
       "    </tr>\n",
       "    <tr>\n",
       "      <th>...</th>\n",
       "      <td>...</td>\n",
       "      <td>...</td>\n",
       "      <td>...</td>\n",
       "      <td>...</td>\n",
       "      <td>...</td>\n",
       "      <td>...</td>\n",
       "      <td>...</td>\n",
       "      <td>...</td>\n",
       "      <td>...</td>\n",
       "      <td>...</td>\n",
       "      <td>...</td>\n",
       "      <td>...</td>\n",
       "      <td>...</td>\n",
       "      <td>...</td>\n",
       "    </tr>\n",
       "    <tr>\n",
       "      <th>4209</th>\n",
       "      <td>BDCQ.SEA2LT</td>\n",
       "      <td>2011.06</td>\n",
       "      <td>NaN</td>\n",
       "      <td>Y</td>\n",
       "      <td>C</td>\n",
       "      <td>Value</td>\n",
       "      <td>6</td>\n",
       "      <td>Business Data Collection - BDC</td>\n",
       "      <td>Industry by employment variable</td>\n",
       "      <td>Total earnings</td>\n",
       "      <td>Rental, Hiring and Real Estate Services</td>\n",
       "      <td>Trend</td>\n",
       "      <td>NaN</td>\n",
       "      <td>NaN</td>\n",
       "    </tr>\n",
       "    <tr>\n",
       "      <th>4248</th>\n",
       "      <td>BDCQ.SEA2MA</td>\n",
       "      <td>2011.06</td>\n",
       "      <td>1825.050000</td>\n",
       "      <td>NaN</td>\n",
       "      <td>F</td>\n",
       "      <td>Value</td>\n",
       "      <td>6</td>\n",
       "      <td>Business Data Collection - BDC</td>\n",
       "      <td>Industry by employment variable</td>\n",
       "      <td>Total earnings</td>\n",
       "      <td>Professional, Scientific and Technical Services</td>\n",
       "      <td>Actual</td>\n",
       "      <td>NaN</td>\n",
       "      <td>NaN</td>\n",
       "    </tr>\n",
       "    <tr>\n",
       "      <th>4294</th>\n",
       "      <td>BDCQ.SEA2MS</td>\n",
       "      <td>2011.06</td>\n",
       "      <td>NaN</td>\n",
       "      <td>Y</td>\n",
       "      <td>R</td>\n",
       "      <td>Value</td>\n",
       "      <td>6</td>\n",
       "      <td>Business Data Collection - BDC</td>\n",
       "      <td>Industry by employment variable</td>\n",
       "      <td>Total earnings</td>\n",
       "      <td>Professional, Scientific and Technical Services</td>\n",
       "      <td>Seasonally adjusted</td>\n",
       "      <td>NaN</td>\n",
       "      <td>NaN</td>\n",
       "    </tr>\n",
       "    <tr>\n",
       "      <th>4333</th>\n",
       "      <td>BDCQ.SEA2MT</td>\n",
       "      <td>2011.06</td>\n",
       "      <td>NaN</td>\n",
       "      <td>Y</td>\n",
       "      <td>C</td>\n",
       "      <td>Value</td>\n",
       "      <td>6</td>\n",
       "      <td>Business Data Collection - BDC</td>\n",
       "      <td>Industry by employment variable</td>\n",
       "      <td>Total earnings</td>\n",
       "      <td>Professional, Scientific and Technical Services</td>\n",
       "      <td>Trend</td>\n",
       "      <td>NaN</td>\n",
       "      <td>NaN</td>\n",
       "    </tr>\n",
       "    <tr>\n",
       "      <th>4372</th>\n",
       "      <td>BDCQ.SEA2NA</td>\n",
       "      <td>2011.06</td>\n",
       "      <td>732.283854</td>\n",
       "      <td>NaN</td>\n",
       "      <td>F</td>\n",
       "      <td>Value</td>\n",
       "      <td>6</td>\n",
       "      <td>Business Data Collection - BDC</td>\n",
       "      <td>Industry by employment variable</td>\n",
       "      <td>Total earnings</td>\n",
       "      <td>Administrative and Support Services</td>\n",
       "      <td>Actual</td>\n",
       "      <td>NaN</td>\n",
       "      <td>NaN</td>\n",
       "    </tr>\n",
       "  </tbody>\n",
       "</table>\n",
       "<p>100 rows × 14 columns</p>\n",
       "</div>"
      ],
      "text/plain": [
       "     Series_reference   Period    Data_value Suppressed STATUS   UNITS  \\\n",
       "0         BDCQ.SEA1AA  2011.06  80078.000000        NaN      F  Number   \n",
       "46        BDCQ.SEA1AS  2011.06  83971.000000        NaN      R  Number   \n",
       "92        BDCQ.SEA1AT  2011.06           NaN        NaN      C  Number   \n",
       "138       BDCQ.SEA1BA  2011.06   5234.000000        NaN      F  Number   \n",
       "184       BDCQ.SEA1BS  2011.06   5234.000000        NaN      R  Number   \n",
       "...               ...      ...           ...        ...    ...     ...   \n",
       "4209      BDCQ.SEA2LT  2011.06           NaN          Y      C   Value   \n",
       "4248      BDCQ.SEA2MA  2011.06   1825.050000        NaN      F   Value   \n",
       "4294      BDCQ.SEA2MS  2011.06           NaN          Y      R   Value   \n",
       "4333      BDCQ.SEA2MT  2011.06           NaN          Y      C   Value   \n",
       "4372      BDCQ.SEA2NA  2011.06    732.283854        NaN      F   Value   \n",
       "\n",
       "      Magnitude                         Subject  \\\n",
       "0             0  Business Data Collection - BDC   \n",
       "46            0  Business Data Collection - BDC   \n",
       "92            0  Business Data Collection - BDC   \n",
       "138           0  Business Data Collection - BDC   \n",
       "184           0  Business Data Collection - BDC   \n",
       "...         ...                             ...   \n",
       "4209          6  Business Data Collection - BDC   \n",
       "4248          6  Business Data Collection - BDC   \n",
       "4294          6  Business Data Collection - BDC   \n",
       "4333          6  Business Data Collection - BDC   \n",
       "4372          6  Business Data Collection - BDC   \n",
       "\n",
       "                                Group  Series_title_1  \\\n",
       "0     Industry by employment variable     Filled jobs   \n",
       "46    Industry by employment variable     Filled jobs   \n",
       "92    Industry by employment variable     Filled jobs   \n",
       "138   Industry by employment variable     Filled jobs   \n",
       "184   Industry by employment variable     Filled jobs   \n",
       "...                               ...             ...   \n",
       "4209  Industry by employment variable  Total earnings   \n",
       "4248  Industry by employment variable  Total earnings   \n",
       "4294  Industry by employment variable  Total earnings   \n",
       "4333  Industry by employment variable  Total earnings   \n",
       "4372  Industry by employment variable  Total earnings   \n",
       "\n",
       "                                       Series_title_2       Series_title_3  \\\n",
       "0                   Agriculture, Forestry and Fishing               Actual   \n",
       "46                  Agriculture, Forestry and Fishing  Seasonally adjusted   \n",
       "92                  Agriculture, Forestry and Fishing                Trend   \n",
       "138                                            Mining               Actual   \n",
       "184                                            Mining  Seasonally adjusted   \n",
       "...                                               ...                  ...   \n",
       "4209          Rental, Hiring and Real Estate Services                Trend   \n",
       "4248  Professional, Scientific and Technical Services               Actual   \n",
       "4294  Professional, Scientific and Technical Services  Seasonally adjusted   \n",
       "4333  Professional, Scientific and Technical Services                Trend   \n",
       "4372              Administrative and Support Services               Actual   \n",
       "\n",
       "      Series_title_4  Series_title_5  \n",
       "0                NaN             NaN  \n",
       "46               NaN             NaN  \n",
       "92               NaN             NaN  \n",
       "138              NaN             NaN  \n",
       "184              NaN             NaN  \n",
       "...              ...             ...  \n",
       "4209             NaN             NaN  \n",
       "4248             NaN             NaN  \n",
       "4294             NaN             NaN  \n",
       "4333             NaN             NaN  \n",
       "4372             NaN             NaN  \n",
       "\n",
       "[100 rows x 14 columns]"
      ]
     },
     "execution_count": 9,
     "metadata": {},
     "output_type": "execute_result"
    }
   ],
   "source": [
    "df201106 = employment_data[employment_data.Period == 2011.06].iloc[:100,:]\n",
    "df2012 = employment_data[employment_data.Period == 2012.06].iloc[:100,:]\n",
    "df201106"
   ]
  },
  {
   "cell_type": "code",
   "execution_count": 16,
   "id": "35167b10",
   "metadata": {},
   "outputs": [
    {
     "ename": "SyntaxError",
     "evalue": "invalid syntax (1954964349.py, line 8)",
     "output_type": "error",
     "traceback": [
      "\u001b[1;36m  File \u001b[1;32m\"C:\\Users\\Nisreen\\AppData\\Local\\Temp\\ipykernel_21900\\1954964349.py\"\u001b[1;36m, line \u001b[1;32m8\u001b[0m\n\u001b[1;33m    trace2 go.scatter3d(\u001b[0m\n\u001b[1;37m           ^\u001b[0m\n\u001b[1;31mSyntaxError\u001b[0m\u001b[1;31m:\u001b[0m invalid syntax\n"
     ]
    }
   ],
   "source": [
    "trace1= go.scatter3d(\n",
    "x=df2011.Data_value,\n",
    "y= df2011.STATUS,\n",
    "mode =\"markers\", name=\"2011.06\",marker= dict(color ='rgb(255,128,2,0.8)'), text=df201106.Subject\n",
    "\n",
    ")\n",
    "\n",
    "trace2 go.scatter3d(\n",
    "x=df2012Data_value,\n",
    "y= df2012.STATUS,\n",
    "mode=\"markers\",name=\"2012\", marker=dict(color='rgba(255,128,2,0.8'), text=df2012.Subject\n",
    "\n",
    ")\n",
    "\n",
    "data=[trace1, trace2]\n",
    "layout =dict(title='STATUS + Data_value'\n",
    "xaxis= dict(title=\"STATUS\", ticklen=5,zeroline=False),\n",
    "yaxis=dict(title=\"Data_value\",ticklen=5,zeroline=False)\n",
    "            )\n",
    "\n",
    "fig=dict(data=data, layout =layout)\n",
    "iplot(fig)"
   ]
  },
  {
   "cell_type": "code",
   "execution_count": 19,
   "id": "fb9848b1",
   "metadata": {},
   "outputs": [],
   "source": [
    "timesData=pd.read_csv(\"e:/Nisreen/Desktop/machine learning/timesdata.csv\")"
   ]
  },
  {
   "cell_type": "code",
   "execution_count": 21,
   "id": "2add1dc8",
   "metadata": {},
   "outputs": [
    {
     "data": {
      "text/html": [
       "<div>\n",
       "<style scoped>\n",
       "    .dataframe tbody tr th:only-of-type {\n",
       "        vertical-align: middle;\n",
       "    }\n",
       "\n",
       "    .dataframe tbody tr th {\n",
       "        vertical-align: top;\n",
       "    }\n",
       "\n",
       "    .dataframe thead th {\n",
       "        text-align: right;\n",
       "    }\n",
       "</style>\n",
       "<table border=\"1\" class=\"dataframe\">\n",
       "  <thead>\n",
       "    <tr style=\"text-align: right;\">\n",
       "      <th></th>\n",
       "      <th>world_rank</th>\n",
       "      <th>university_name</th>\n",
       "      <th>country</th>\n",
       "      <th>teaching</th>\n",
       "      <th>international</th>\n",
       "      <th>research</th>\n",
       "      <th>citations</th>\n",
       "      <th>income</th>\n",
       "      <th>total_score</th>\n",
       "      <th>num_students</th>\n",
       "      <th>student_staff_ratio</th>\n",
       "      <th>international_students</th>\n",
       "      <th>female_male_ratio</th>\n",
       "      <th>year</th>\n",
       "    </tr>\n",
       "  </thead>\n",
       "  <tbody>\n",
       "    <tr>\n",
       "      <th>0</th>\n",
       "      <td>1</td>\n",
       "      <td>Harvard University</td>\n",
       "      <td>United States of America</td>\n",
       "      <td>99.7</td>\n",
       "      <td>72.4</td>\n",
       "      <td>98.7</td>\n",
       "      <td>98.8</td>\n",
       "      <td>34.5</td>\n",
       "      <td>96.1</td>\n",
       "      <td>20,152</td>\n",
       "      <td>8.9</td>\n",
       "      <td>25%</td>\n",
       "      <td>NaN</td>\n",
       "      <td>2011</td>\n",
       "    </tr>\n",
       "    <tr>\n",
       "      <th>1</th>\n",
       "      <td>2</td>\n",
       "      <td>California Institute of Technology</td>\n",
       "      <td>United States of America</td>\n",
       "      <td>97.7</td>\n",
       "      <td>54.6</td>\n",
       "      <td>98.0</td>\n",
       "      <td>99.9</td>\n",
       "      <td>83.7</td>\n",
       "      <td>96.0</td>\n",
       "      <td>2,243</td>\n",
       "      <td>6.9</td>\n",
       "      <td>27%</td>\n",
       "      <td>33 : 67</td>\n",
       "      <td>2011</td>\n",
       "    </tr>\n",
       "    <tr>\n",
       "      <th>2</th>\n",
       "      <td>3</td>\n",
       "      <td>Massachusetts Institute of Technology</td>\n",
       "      <td>United States of America</td>\n",
       "      <td>97.8</td>\n",
       "      <td>82.3</td>\n",
       "      <td>91.4</td>\n",
       "      <td>99.9</td>\n",
       "      <td>87.5</td>\n",
       "      <td>95.6</td>\n",
       "      <td>11,074</td>\n",
       "      <td>9.0</td>\n",
       "      <td>33%</td>\n",
       "      <td>37 : 63</td>\n",
       "      <td>2011</td>\n",
       "    </tr>\n",
       "    <tr>\n",
       "      <th>3</th>\n",
       "      <td>4</td>\n",
       "      <td>Stanford University</td>\n",
       "      <td>United States of America</td>\n",
       "      <td>98.3</td>\n",
       "      <td>29.5</td>\n",
       "      <td>98.1</td>\n",
       "      <td>99.2</td>\n",
       "      <td>64.3</td>\n",
       "      <td>94.3</td>\n",
       "      <td>15,596</td>\n",
       "      <td>7.8</td>\n",
       "      <td>22%</td>\n",
       "      <td>42 : 58</td>\n",
       "      <td>2011</td>\n",
       "    </tr>\n",
       "    <tr>\n",
       "      <th>4</th>\n",
       "      <td>5</td>\n",
       "      <td>Princeton University</td>\n",
       "      <td>United States of America</td>\n",
       "      <td>90.9</td>\n",
       "      <td>70.3</td>\n",
       "      <td>95.4</td>\n",
       "      <td>99.9</td>\n",
       "      <td>-</td>\n",
       "      <td>94.2</td>\n",
       "      <td>7,929</td>\n",
       "      <td>8.4</td>\n",
       "      <td>27%</td>\n",
       "      <td>45 : 55</td>\n",
       "      <td>2011</td>\n",
       "    </tr>\n",
       "  </tbody>\n",
       "</table>\n",
       "</div>"
      ],
      "text/plain": [
       "  world_rank                        university_name                   country  \\\n",
       "0          1                     Harvard University  United States of America   \n",
       "1          2     California Institute of Technology  United States of America   \n",
       "2          3  Massachusetts Institute of Technology  United States of America   \n",
       "3          4                    Stanford University  United States of America   \n",
       "4          5                   Princeton University  United States of America   \n",
       "\n",
       "   teaching international  research  citations income total_score  \\\n",
       "0      99.7          72.4      98.7       98.8   34.5        96.1   \n",
       "1      97.7          54.6      98.0       99.9   83.7        96.0   \n",
       "2      97.8          82.3      91.4       99.9   87.5        95.6   \n",
       "3      98.3          29.5      98.1       99.2   64.3        94.3   \n",
       "4      90.9          70.3      95.4       99.9      -        94.2   \n",
       "\n",
       "  num_students  student_staff_ratio international_students female_male_ratio  \\\n",
       "0       20,152                  8.9                    25%               NaN   \n",
       "1        2,243                  6.9                    27%           33 : 67   \n",
       "2       11,074                  9.0                    33%           37 : 63   \n",
       "3       15,596                  7.8                    22%           42 : 58   \n",
       "4        7,929                  8.4                    27%           45 : 55   \n",
       "\n",
       "   year  \n",
       "0  2011  \n",
       "1  2011  \n",
       "2  2011  \n",
       "3  2011  \n",
       "4  2011  "
      ]
     },
     "execution_count": 21,
     "metadata": {},
     "output_type": "execute_result"
    }
   ],
   "source": [
    "timesData.head()"
   ]
  },
  {
   "cell_type": "code",
   "execution_count": 22,
   "id": "a2306f4c",
   "metadata": {},
   "outputs": [],
   "source": [
    "df2012 = timesData[timesData.year == 2012].iloc[:100,:] \n",
    "df2013 = timesData[timesData.year == 2013].iloc[:100,:] \n",
    "df2014 = timesData[timesData.year == 2014].iloc[:100,:] "
   ]
  },
  {
   "cell_type": "code",
   "execution_count": 24,
   "id": "ced48cdf",
   "metadata": {},
   "outputs": [
    {
     "data": {
      "application/vnd.plotly.v1+json": {
       "config": {
        "linkText": "Export to plot.ly",
        "plotlyServerURL": "https://plot.ly",
        "showLink": false
       },
       "data": [
        {
         "marker": {
          "color": "rgba(255, 128, 255, 0.8)"
         },
         "mode": "markers",
         "name": "2012",
         "text": [
          "California Institute of Technology",
          "Harvard University",
          "Stanford University",
          "University of Oxford",
          "Princeton University",
          "University of Cambridge",
          "Massachusetts Institute of Technology",
          "Imperial College London",
          "University of Chicago",
          "University of California, Berkeley",
          "Yale University",
          "Columbia University",
          "University of California, Los Angeles",
          "Johns Hopkins University",
          "ETH Zurich – Swiss Federal Institute of Technology Zurich",
          "University of Pennsylvania",
          "University College London",
          "University of Michigan",
          "University of Toronto",
          "Cornell University",
          "Carnegie Mellon University",
          "Duke University",
          "University of British Columbia",
          "Georgia Institute of Technology",
          "University of Washington",
          "Northwestern University",
          "University of Wisconsin-Madison",
          "McGill University",
          "University of Texas at Austin",
          "University of Tokyo",
          "University of Illinois at Urbana-Champaign",
          "Karolinska Institute",
          "University of California, San Diego",
          "University of Hong Kong",
          "University of California, Santa Barbara",
          "University of Edinburgh",
          "University of Melbourne",
          "Australian National University",
          "University of California, Davis",
          "National University of Singapore",
          "Washington University in St Louis",
          "University of Minnesota",
          "University of North Carolina at Chapel Hill",
          "New York University",
          "LMU Munich",
          "École Polytechnique Fédérale de Lausanne",
          "London School of Economics and Political Science",
          "University of Manchester",
          "Brown University",
          "Peking University",
          "Pennsylvania State University",
          "Kyoto University",
          "Pohang University of Science and Technology",
          "Boston University",
          "University of Southern California",
          "King’s College London",
          "Ohio State University",
          "University of Sydney",
          "University of Pittsburgh",
          "École Normale Supérieure",
          "University of Zurich",
          "Hong Kong University of Science and Technology",
          "École Polytechnique",
          "University of Massachusetts",
          "McMaster University",
          "University of Bristol",
          "KU Leuven",
          "Utrecht University",
          "University of Göttingen",
          "Vanderbilt University",
          "Tsinghua University",
          "Rice University",
          "Heidelberg University",
          "The University of Queensland",
          "Emory University",
          "Wageningen University and Research Center",
          "Tufts University",
          "University of Colorado Boulder",
          "Leiden University",
          "Lund University",
          "Rutgers, the State University of New Jersey",
          "University of Rochester",
          "Durham University",
          "Pierre and Marie Curie University",
          "University of St Andrews",
          "University of California, Irvine",
          "Uppsala University",
          "Technical University of Munich",
          "University of Notre Dame",
          "Dartmouth College",
          "University of Helsinki",
          "University of Amsterdam",
          "Case Western Reserve University",
          "Korea Advanced Institute of Science and Technology (KAIST)",
          "University of Maryland, College Park",
          "Michigan State University",
          "University of Arizona",
          "Purdue University",
          "University of Sussex",
          "University of Alberta"
         ],
         "type": "scatter",
         "x": [
          "2,243",
          "20,152",
          "15,596",
          "19,919",
          "7,929",
          "18,812",
          "11,074",
          "15,060",
          "14,221",
          "36,186",
          "11,751",
          "25,055",
          "38,206",
          "15,128",
          "18,178",
          "20,376",
          "26,607",
          "41,786",
          "66,198",
          "21,424",
          "11,885",
          "15,172",
          "50,152",
          "19,967",
          "44,020",
          "18,334",
          "39,655",
          "31,326",
          "49,427",
          "26,199",
          "42,727",
          "7,774",
          "27,233",
          "19,835",
          "22,020",
          "25,774",
          "40,128",
          "14,604",
          "35,364",
          "31,592",
          "12,528",
          "46,825",
          "26,518",
          "42,056",
          "35,691",
          "9,666",
          null,
          "34,938",
          "8,653",
          "40,148",
          "44,501",
          "22,809",
          "3,055",
          "24,789",
          "36,534",
          "21,394",
          "51,462",
          "41,868",
          "26,485",
          "2,400",
          "26,583",
          "11,385",
          "2,429",
          "56,959",
          "23,823",
          "17,906",
          "42,503",
          "30,779",
          "25,581",
          "12,161",
          "39,763",
          "6,333",
          "28,881",
          "34,718",
          "12,338",
          "9,248",
          "10,410",
          "29,325",
          "21,222",
          "28,251",
          "37,032",
          "9,390",
          "15,489",
          "27,862",
          "8,338",
          "26,614",
          "25,266",
          "35,565",
          "11,829",
          "6,178",
          "23,505",
          "24,570",
          "9,259",
          "9,027",
          "31,331",
          "44,750",
          "36,429",
          "39,256",
          "12,001",
          "36,299"
         ],
         "y": [
          99.9,
          99.8,
          99.8,
          97.9,
          100,
          97.3,
          100,
          93.9,
          99.4,
          99.4,
          96.7,
          97.8,
          97.3,
          97.3,
          87.2,
          97.9,
          89,
          94.3,
          86.5,
          93.5,
          97.4,
          97.4,
          85.2,
          91.9,
          98.2,
          98.6,
          90.6,
          77.1,
          89.6,
          69.1,
          81.5,
          73.1,
          97.8,
          60.5,
          99.9,
          92.3,
          80.7,
          72.6,
          83.4,
          63.4,
          96.1,
          85.4,
          92.6,
          92.3,
          84.6,
          95.3,
          50.6,
          75.6,
          93.9,
          51,
          83.4,
          56.3,
          92.3,
          95.6,
          80.2,
          80.9,
          77.5,
          57.2,
          88.7,
          96.4,
          78.4,
          71,
          89.1,
          80.1,
          85.5,
          89.9,
          63,
          85.7,
          84.1,
          86.8,
          37.4,
          99.9,
          78.5,
          70.2,
          90.9,
          66.3,
          94.5,
          98.2,
          71.7,
          72.8,
          69,
          94.5,
          96.2,
          81.1,
          83,
          93.5,
          53.3,
          76.3,
          94.1,
          89.9,
          75.1,
          68.3,
          78.4,
          47.1,
          85.8,
          73.6,
          78.3,
          57.8,
          92,
          51.7
         ]
        },
        {
         "marker": {
          "color": "rgba(255, 128, 2, 0.8)"
         },
         "mode": "markers",
         "name": "2013",
         "text": [
          "California Institute of Technology",
          "Stanford University",
          "University of Oxford",
          "Harvard University",
          "Massachusetts Institute of Technology",
          "Princeton University",
          "University of Cambridge",
          "Imperial College London",
          "University of California, Berkeley",
          "University of Chicago",
          "Yale University",
          "ETH Zurich – Swiss Federal Institute of Technology Zurich",
          "University of California, Los Angeles",
          "Columbia University",
          "University of Pennsylvania",
          "Johns Hopkins University",
          "University College London",
          "Cornell University",
          "Northwestern University",
          "University of Michigan",
          "University of Toronto",
          "Carnegie Mellon University",
          "Duke University",
          "University of Washington",
          "Georgia Institute of Technology",
          "University of Texas at Austin",
          "University of Tokyo",
          "University of Melbourne",
          "National University of Singapore",
          "University of British Columbia",
          "University of Wisconsin-Madison",
          "University of Edinburgh",
          "University of Illinois at Urbana-Champaign",
          "McGill University",
          "University of California, Santa Barbara",
          "University of Hong Kong",
          "Australian National University",
          "University of California, San Diego",
          "London School of Economics and Political Science",
          "École Polytechnique Fédérale de Lausanne",
          "New York University",
          "Karolinska Institute",
          "University of North Carolina at Chapel Hill",
          "University of California, Davis",
          "Washington University in St Louis",
          "Peking University",
          "University of Minnesota",
          "LMU Munich",
          "University of Manchester",
          "Pohang University of Science and Technology",
          "Brown University",
          "Tsinghua University",
          "Ohio State University",
          "Boston University",
          "Kyoto University",
          "University of Southern California",
          "King’s College London",
          "KU Leuven",
          "Seoul National University",
          "École Normale Supérieure",
          "Pennsylvania State University",
          "University of Sydney",
          "École Polytechnique",
          "Leiden University",
          "Hong Kong University of Science and Technology",
          "The University of Queensland",
          "Utrecht University",
          "Korea Advanced Institute of Science and Technology (KAIST)",
          "Purdue University",
          "University of Göttingen",
          "Wageningen University and Research Center",
          "Erasmus University Rotterdam",
          "University of Massachusetts",
          "University of Bristol",
          "Rice University",
          "University of Pittsburgh",
          "Delft University of Technology",
          "Heidelberg University",
          "Emory University",
          "Durham University",
          "Pierre and Marie Curie University",
          "Lund University",
          "University of Amsterdam",
          "University of Montreal",
          "University of New South Wales",
          "Nanyang Technological University",
          "Tufts University",
          "McMaster University",
          "University of Groningen",
          "University of Zurich",
          "University of Colorado Boulder",
          "Paris-Sud University",
          "Ghent University",
          "Michigan State University",
          "University of Notre Dame",
          "University of California, Irvine",
          "University of Maryland, College Park",
          "University of Arizona",
          "Humboldt University of Berlin",
          "Monash University"
         ],
         "type": "scatter",
         "x": [
          "2,243",
          "15,596",
          "19,919",
          "20,152",
          "11,074",
          "7,929",
          "18,812",
          "15,060",
          "36,186",
          "14,221",
          "11,751",
          "18,178",
          "38,206",
          "25,055",
          "20,376",
          "15,128",
          "26,607",
          "21,424",
          "18,334",
          "41,786",
          "66,198",
          "11,885",
          "15,172",
          "44,020",
          "19,967",
          "49,427",
          "26,199",
          "40,128",
          "31,592",
          "50,152",
          "39,655",
          "25,774",
          "42,727",
          "31,326",
          "22,020",
          "19,835",
          "14,604",
          "27,233",
          null,
          "9,666",
          "42,056",
          "7,774",
          "26,518",
          "35,364",
          "12,528",
          "40,148",
          "46,825",
          "35,691",
          "34,938",
          "3,055",
          "8,653",
          "39,763",
          "51,462",
          "24,789",
          "22,809",
          "36,534",
          "21,394",
          "42,503",
          "26,389",
          "2,400",
          "44,501",
          "41,868",
          "2,429",
          "21,222",
          "11,385",
          "34,718",
          "30,779",
          "9,027",
          "39,256",
          "25,581",
          "9,248",
          "20,580",
          "56,959",
          "17,906",
          "6,333",
          "26,485",
          "15,920",
          "28,881",
          "12,338",
          "15,489",
          "27,862",
          "28,251",
          "24,570",
          "38,264",
          "38,309",
          "25,028",
          "10,410",
          "23,823",
          "24,556",
          "26,583",
          "29,325",
          "27,603",
          "32,166",
          "44,750",
          "11,829",
          "26,614",
          "31,331",
          "36,429",
          "29,987",
          "50,882"
         ],
         "y": [
          99.7,
          99.3,
          95.6,
          99.2,
          99.9,
          99.8,
          96.2,
          93,
          99.3,
          98.7,
          94.8,
          86.6,
          95.9,
          96.1,
          96.2,
          95.3,
          86.8,
          91.8,
          98.2,
          91.6,
          85.1,
          95.5,
          97,
          97,
          90.3,
          91,
          71.3,
          83.7,
          67.2,
          84,
          88.2,
          90.8,
          80.8,
          75.2,
          99.4,
          62.1,
          73.5,
          96.2,
          66.5,
          95,
          89.2,
          77.3,
          90.1,
          82.7,
          95.2,
          64.3,
          84.7,
          85.5,
          76.9,
          88.2,
          94.1,
          55.2,
          80.1,
          94.2,
          57.8,
          81.9,
          82.8,
          67.2,
          48,
          90.3,
          81.4,
          62.9,
          80.7,
          78.4,
          68.9,
          69.6,
          82.4,
          58.4,
          63.1,
          92.5,
          73.8,
          80.2,
          77.8,
          85.4,
          100,
          85.2,
          45.1,
          75.5,
          90.9,
          93.3,
          80.6,
          77.1,
          75.1,
          60.9,
          56.7,
          54.5,
          94.8,
          81.7,
          71.6,
          80,
          97.1,
          82.9,
          71.3,
          73.8,
          93.5,
          90.3,
          83.9,
          76.9,
          59.5,
          60.9
         ]
        },
        {
         "marker": {
          "color": "rgba(0, 255, 200, 0.8)"
         },
         "mode": "markers",
         "name": "2014",
         "text": [
          "California Institute of Technology",
          "Harvard University",
          "University of Oxford",
          "Stanford University",
          "Massachusetts Institute of Technology",
          "Princeton University",
          "University of Cambridge",
          "University of California, Berkeley",
          "University of Chicago",
          "Imperial College London",
          "Yale University",
          "University of California, Los Angeles",
          "Columbia University",
          "ETH Zurich – Swiss Federal Institute of Technology Zurich",
          "Johns Hopkins University",
          "University of Pennsylvania",
          "Duke University",
          "University of Michigan",
          "Cornell University",
          "University of Toronto",
          "University College London",
          "Northwestern University",
          "University of Tokyo",
          "Carnegie Mellon University",
          "University of Washington",
          "National University of Singapore",
          "University of Texas at Austin",
          "Georgia Institute of Technology",
          "University of Illinois at Urbana-Champaign",
          "University of Wisconsin-Madison",
          "University of British Columbia",
          "London School of Economics and Political Science",
          "University of California, Santa Barbara",
          "University of Melbourne",
          "McGill University",
          "Karolinska Institute",
          "École Polytechnique Fédérale de Lausanne",
          "King’s College London",
          "University of Edinburgh",
          "New York University",
          "University of California, San Diego",
          "Washington University in St Louis",
          "University of Hong Kong",
          "Seoul National University",
          "Peking University",
          "University of Minnesota",
          "University of North Carolina at Chapel Hill",
          "Australian National University",
          "Pennsylvania State University",
          "Boston University",
          "Tsinghua University",
          "Brown University",
          "Kyoto University",
          "University of California, Davis",
          "LMU Munich",
          "Korea Advanced Institute of Science and Technology (KAIST)",
          "Hong Kong University of Science and Technology",
          "University of Manchester",
          "Ohio State University",
          "Pohang University of Science and Technology",
          "KU Leuven",
          "Purdue University",
          "The University of Queensland",
          "University of Göttingen",
          "Rice University",
          "École Normale Supérieure",
          "Leiden University",
          "Heidelberg University",
          "Delft University of Technology",
          "University of Southern California",
          "École Polytechnique",
          "University of Sydney",
          "Erasmus University Rotterdam",
          "University of Basel",
          "Utrecht University",
          "Nanyang Technological University",
          "Wageningen University and Research Center",
          "University of Pittsburgh",
          "University of Bristol",
          "Durham University",
          "Emory University",
          "Tufts University",
          "Michigan State University",
          "University of Amsterdam",
          "Ghent University",
          "Free University of Berlin",
          "Technical University of Munich",
          "Case Western Reserve University",
          "Vanderbilt University",
          "University of Notre Dame",
          "Monash University",
          "McMaster University",
          "University of California, Irvine",
          "Humboldt University of Berlin",
          "University of Rochester",
          "Pierre and Marie Curie University",
          "University of Colorado Boulder",
          "Maastricht University",
          "University of Groningen",
          "University of Helsinki"
         ],
         "type": "scatter",
         "x": [
          "2,243",
          "20,152",
          "19,919",
          "15,596",
          "11,074",
          "7,929",
          "18,812",
          "36,186",
          "14,221",
          "15,060",
          "11,751",
          "38,206",
          "25,055",
          "18,178",
          "15,128",
          "20,376",
          "15,172",
          "41,786",
          "21,424",
          "66,198",
          "26,607",
          "18,334",
          "26,199",
          "11,885",
          "44,020",
          "31,592",
          "49,427",
          "19,967",
          "42,727",
          "39,655",
          "50,152",
          null,
          "22,020",
          "40,128",
          "31,326",
          "7,774",
          "9,666",
          "21,394",
          "25,774",
          "42,056",
          "27,233",
          "12,528",
          "19,835",
          "26,389",
          "40,148",
          "46,825",
          "26,518",
          "14,604",
          "44,501",
          "24,789",
          "39,763",
          "8,653",
          "22,809",
          "35,364",
          "35,691",
          "9,027",
          "11,385",
          "34,938",
          "51,462",
          "3,055",
          "42,503",
          "39,256",
          "34,718",
          "25,581",
          "6,333",
          "2,400",
          "21,222",
          "28,881",
          "15,920",
          "36,534",
          "2,429",
          "41,868",
          "20,580",
          "12,551",
          "30,779",
          "25,028",
          "9,248",
          "26,485",
          "17,906",
          "15,489",
          "12,338",
          "10,410",
          "44,750",
          "24,570",
          "32,166",
          "33,062",
          "35,565",
          "9,259",
          "12,161",
          "11,829",
          "50,882",
          "23,823",
          "26,614",
          "29,987",
          "9,390",
          "27,862",
          "29,325",
          "15,626",
          "24,556",
          "23,505"
         ],
         "y": [
          99.8,
          99.1,
          95.4,
          99.1,
          100,
          99.7,
          95.7,
          99.3,
          98,
          90,
          93.5,
          95.6,
          95.6,
          85,
          95,
          95,
          96.7,
          90.8,
          90.8,
          84.5,
          84.1,
          97.1,
          69.8,
          93.9,
          95.6,
          66.4,
          91.3,
          87.9,
          79.4,
          87.2,
          83.7,
          69.2,
          99.4,
          80.2,
          74.5,
          76,
          95.9,
          87.6,
          87.6,
          87.9,
          96.7,
          96.4,
          61.5,
          47.3,
          62.8,
          81.2,
          90.2,
          71.2,
          79.4,
          95.3,
          59.9,
          91.3,
          58.2,
          81.2,
          83.3,
          67,
          72.3,
          77.3,
          79.4,
          85.7,
          72.9,
          67,
          73.3,
          89.6,
          99.9,
          87,
          84.2,
          76,
          47.2,
          81.2,
          82.3,
          66.6,
          81.2,
          81.4,
          82,
          67.5,
          74.1,
          84.4,
          84.9,
          88.2,
          90.8,
          93.9,
          71.5,
          75,
          74.9,
          64.8,
          80.7,
          82.8,
          86.5,
          91.8,
          65.4,
          79.4,
          89.7,
          68.4,
          89.7,
          82.3,
          97.3,
          65.8,
          71.1,
          77.8
         ]
        }
       ],
       "layout": {
        "template": {
         "data": {
          "bar": [
           {
            "error_x": {
             "color": "#2a3f5f"
            },
            "error_y": {
             "color": "#2a3f5f"
            },
            "marker": {
             "line": {
              "color": "#E5ECF6",
              "width": 0.5
             },
             "pattern": {
              "fillmode": "overlay",
              "size": 10,
              "solidity": 0.2
             }
            },
            "type": "bar"
           }
          ],
          "barpolar": [
           {
            "marker": {
             "line": {
              "color": "#E5ECF6",
              "width": 0.5
             },
             "pattern": {
              "fillmode": "overlay",
              "size": 10,
              "solidity": 0.2
             }
            },
            "type": "barpolar"
           }
          ],
          "carpet": [
           {
            "aaxis": {
             "endlinecolor": "#2a3f5f",
             "gridcolor": "white",
             "linecolor": "white",
             "minorgridcolor": "white",
             "startlinecolor": "#2a3f5f"
            },
            "baxis": {
             "endlinecolor": "#2a3f5f",
             "gridcolor": "white",
             "linecolor": "white",
             "minorgridcolor": "white",
             "startlinecolor": "#2a3f5f"
            },
            "type": "carpet"
           }
          ],
          "choropleth": [
           {
            "colorbar": {
             "outlinewidth": 0,
             "ticks": ""
            },
            "type": "choropleth"
           }
          ],
          "contour": [
           {
            "colorbar": {
             "outlinewidth": 0,
             "ticks": ""
            },
            "colorscale": [
             [
              0,
              "#0d0887"
             ],
             [
              0.1111111111111111,
              "#46039f"
             ],
             [
              0.2222222222222222,
              "#7201a8"
             ],
             [
              0.3333333333333333,
              "#9c179e"
             ],
             [
              0.4444444444444444,
              "#bd3786"
             ],
             [
              0.5555555555555556,
              "#d8576b"
             ],
             [
              0.6666666666666666,
              "#ed7953"
             ],
             [
              0.7777777777777778,
              "#fb9f3a"
             ],
             [
              0.8888888888888888,
              "#fdca26"
             ],
             [
              1,
              "#f0f921"
             ]
            ],
            "type": "contour"
           }
          ],
          "contourcarpet": [
           {
            "colorbar": {
             "outlinewidth": 0,
             "ticks": ""
            },
            "type": "contourcarpet"
           }
          ],
          "heatmap": [
           {
            "colorbar": {
             "outlinewidth": 0,
             "ticks": ""
            },
            "colorscale": [
             [
              0,
              "#0d0887"
             ],
             [
              0.1111111111111111,
              "#46039f"
             ],
             [
              0.2222222222222222,
              "#7201a8"
             ],
             [
              0.3333333333333333,
              "#9c179e"
             ],
             [
              0.4444444444444444,
              "#bd3786"
             ],
             [
              0.5555555555555556,
              "#d8576b"
             ],
             [
              0.6666666666666666,
              "#ed7953"
             ],
             [
              0.7777777777777778,
              "#fb9f3a"
             ],
             [
              0.8888888888888888,
              "#fdca26"
             ],
             [
              1,
              "#f0f921"
             ]
            ],
            "type": "heatmap"
           }
          ],
          "heatmapgl": [
           {
            "colorbar": {
             "outlinewidth": 0,
             "ticks": ""
            },
            "colorscale": [
             [
              0,
              "#0d0887"
             ],
             [
              0.1111111111111111,
              "#46039f"
             ],
             [
              0.2222222222222222,
              "#7201a8"
             ],
             [
              0.3333333333333333,
              "#9c179e"
             ],
             [
              0.4444444444444444,
              "#bd3786"
             ],
             [
              0.5555555555555556,
              "#d8576b"
             ],
             [
              0.6666666666666666,
              "#ed7953"
             ],
             [
              0.7777777777777778,
              "#fb9f3a"
             ],
             [
              0.8888888888888888,
              "#fdca26"
             ],
             [
              1,
              "#f0f921"
             ]
            ],
            "type": "heatmapgl"
           }
          ],
          "histogram": [
           {
            "marker": {
             "pattern": {
              "fillmode": "overlay",
              "size": 10,
              "solidity": 0.2
             }
            },
            "type": "histogram"
           }
          ],
          "histogram2d": [
           {
            "colorbar": {
             "outlinewidth": 0,
             "ticks": ""
            },
            "colorscale": [
             [
              0,
              "#0d0887"
             ],
             [
              0.1111111111111111,
              "#46039f"
             ],
             [
              0.2222222222222222,
              "#7201a8"
             ],
             [
              0.3333333333333333,
              "#9c179e"
             ],
             [
              0.4444444444444444,
              "#bd3786"
             ],
             [
              0.5555555555555556,
              "#d8576b"
             ],
             [
              0.6666666666666666,
              "#ed7953"
             ],
             [
              0.7777777777777778,
              "#fb9f3a"
             ],
             [
              0.8888888888888888,
              "#fdca26"
             ],
             [
              1,
              "#f0f921"
             ]
            ],
            "type": "histogram2d"
           }
          ],
          "histogram2dcontour": [
           {
            "colorbar": {
             "outlinewidth": 0,
             "ticks": ""
            },
            "colorscale": [
             [
              0,
              "#0d0887"
             ],
             [
              0.1111111111111111,
              "#46039f"
             ],
             [
              0.2222222222222222,
              "#7201a8"
             ],
             [
              0.3333333333333333,
              "#9c179e"
             ],
             [
              0.4444444444444444,
              "#bd3786"
             ],
             [
              0.5555555555555556,
              "#d8576b"
             ],
             [
              0.6666666666666666,
              "#ed7953"
             ],
             [
              0.7777777777777778,
              "#fb9f3a"
             ],
             [
              0.8888888888888888,
              "#fdca26"
             ],
             [
              1,
              "#f0f921"
             ]
            ],
            "type": "histogram2dcontour"
           }
          ],
          "mesh3d": [
           {
            "colorbar": {
             "outlinewidth": 0,
             "ticks": ""
            },
            "type": "mesh3d"
           }
          ],
          "parcoords": [
           {
            "line": {
             "colorbar": {
              "outlinewidth": 0,
              "ticks": ""
             }
            },
            "type": "parcoords"
           }
          ],
          "pie": [
           {
            "automargin": true,
            "type": "pie"
           }
          ],
          "scatter": [
           {
            "fillpattern": {
             "fillmode": "overlay",
             "size": 10,
             "solidity": 0.2
            },
            "type": "scatter"
           }
          ],
          "scatter3d": [
           {
            "line": {
             "colorbar": {
              "outlinewidth": 0,
              "ticks": ""
             }
            },
            "marker": {
             "colorbar": {
              "outlinewidth": 0,
              "ticks": ""
             }
            },
            "type": "scatter3d"
           }
          ],
          "scattercarpet": [
           {
            "marker": {
             "colorbar": {
              "outlinewidth": 0,
              "ticks": ""
             }
            },
            "type": "scattercarpet"
           }
          ],
          "scattergeo": [
           {
            "marker": {
             "colorbar": {
              "outlinewidth": 0,
              "ticks": ""
             }
            },
            "type": "scattergeo"
           }
          ],
          "scattergl": [
           {
            "marker": {
             "colorbar": {
              "outlinewidth": 0,
              "ticks": ""
             }
            },
            "type": "scattergl"
           }
          ],
          "scattermapbox": [
           {
            "marker": {
             "colorbar": {
              "outlinewidth": 0,
              "ticks": ""
             }
            },
            "type": "scattermapbox"
           }
          ],
          "scatterpolar": [
           {
            "marker": {
             "colorbar": {
              "outlinewidth": 0,
              "ticks": ""
             }
            },
            "type": "scatterpolar"
           }
          ],
          "scatterpolargl": [
           {
            "marker": {
             "colorbar": {
              "outlinewidth": 0,
              "ticks": ""
             }
            },
            "type": "scatterpolargl"
           }
          ],
          "scatterternary": [
           {
            "marker": {
             "colorbar": {
              "outlinewidth": 0,
              "ticks": ""
             }
            },
            "type": "scatterternary"
           }
          ],
          "surface": [
           {
            "colorbar": {
             "outlinewidth": 0,
             "ticks": ""
            },
            "colorscale": [
             [
              0,
              "#0d0887"
             ],
             [
              0.1111111111111111,
              "#46039f"
             ],
             [
              0.2222222222222222,
              "#7201a8"
             ],
             [
              0.3333333333333333,
              "#9c179e"
             ],
             [
              0.4444444444444444,
              "#bd3786"
             ],
             [
              0.5555555555555556,
              "#d8576b"
             ],
             [
              0.6666666666666666,
              "#ed7953"
             ],
             [
              0.7777777777777778,
              "#fb9f3a"
             ],
             [
              0.8888888888888888,
              "#fdca26"
             ],
             [
              1,
              "#f0f921"
             ]
            ],
            "type": "surface"
           }
          ],
          "table": [
           {
            "cells": {
             "fill": {
              "color": "#EBF0F8"
             },
             "line": {
              "color": "white"
             }
            },
            "header": {
             "fill": {
              "color": "#C8D4E3"
             },
             "line": {
              "color": "white"
             }
            },
            "type": "table"
           }
          ]
         },
         "layout": {
          "annotationdefaults": {
           "arrowcolor": "#2a3f5f",
           "arrowhead": 0,
           "arrowwidth": 1
          },
          "autotypenumbers": "strict",
          "coloraxis": {
           "colorbar": {
            "outlinewidth": 0,
            "ticks": ""
           }
          },
          "colorscale": {
           "diverging": [
            [
             0,
             "#8e0152"
            ],
            [
             0.1,
             "#c51b7d"
            ],
            [
             0.2,
             "#de77ae"
            ],
            [
             0.3,
             "#f1b6da"
            ],
            [
             0.4,
             "#fde0ef"
            ],
            [
             0.5,
             "#f7f7f7"
            ],
            [
             0.6,
             "#e6f5d0"
            ],
            [
             0.7,
             "#b8e186"
            ],
            [
             0.8,
             "#7fbc41"
            ],
            [
             0.9,
             "#4d9221"
            ],
            [
             1,
             "#276419"
            ]
           ],
           "sequential": [
            [
             0,
             "#0d0887"
            ],
            [
             0.1111111111111111,
             "#46039f"
            ],
            [
             0.2222222222222222,
             "#7201a8"
            ],
            [
             0.3333333333333333,
             "#9c179e"
            ],
            [
             0.4444444444444444,
             "#bd3786"
            ],
            [
             0.5555555555555556,
             "#d8576b"
            ],
            [
             0.6666666666666666,
             "#ed7953"
            ],
            [
             0.7777777777777778,
             "#fb9f3a"
            ],
            [
             0.8888888888888888,
             "#fdca26"
            ],
            [
             1,
             "#f0f921"
            ]
           ],
           "sequentialminus": [
            [
             0,
             "#0d0887"
            ],
            [
             0.1111111111111111,
             "#46039f"
            ],
            [
             0.2222222222222222,
             "#7201a8"
            ],
            [
             0.3333333333333333,
             "#9c179e"
            ],
            [
             0.4444444444444444,
             "#bd3786"
            ],
            [
             0.5555555555555556,
             "#d8576b"
            ],
            [
             0.6666666666666666,
             "#ed7953"
            ],
            [
             0.7777777777777778,
             "#fb9f3a"
            ],
            [
             0.8888888888888888,
             "#fdca26"
            ],
            [
             1,
             "#f0f921"
            ]
           ]
          },
          "colorway": [
           "#636efa",
           "#EF553B",
           "#00cc96",
           "#ab63fa",
           "#FFA15A",
           "#19d3f3",
           "#FF6692",
           "#B6E880",
           "#FF97FF",
           "#FECB52"
          ],
          "font": {
           "color": "#2a3f5f"
          },
          "geo": {
           "bgcolor": "white",
           "lakecolor": "white",
           "landcolor": "#E5ECF6",
           "showlakes": true,
           "showland": true,
           "subunitcolor": "white"
          },
          "hoverlabel": {
           "align": "left"
          },
          "hovermode": "closest",
          "mapbox": {
           "style": "light"
          },
          "paper_bgcolor": "white",
          "plot_bgcolor": "#E5ECF6",
          "polar": {
           "angularaxis": {
            "gridcolor": "white",
            "linecolor": "white",
            "ticks": ""
           },
           "bgcolor": "#E5ECF6",
           "radialaxis": {
            "gridcolor": "white",
            "linecolor": "white",
            "ticks": ""
           }
          },
          "scene": {
           "xaxis": {
            "backgroundcolor": "#E5ECF6",
            "gridcolor": "white",
            "gridwidth": 2,
            "linecolor": "white",
            "showbackground": true,
            "ticks": "",
            "zerolinecolor": "white"
           },
           "yaxis": {
            "backgroundcolor": "#E5ECF6",
            "gridcolor": "white",
            "gridwidth": 2,
            "linecolor": "white",
            "showbackground": true,
            "ticks": "",
            "zerolinecolor": "white"
           },
           "zaxis": {
            "backgroundcolor": "#E5ECF6",
            "gridcolor": "white",
            "gridwidth": 2,
            "linecolor": "white",
            "showbackground": true,
            "ticks": "",
            "zerolinecolor": "white"
           }
          },
          "shapedefaults": {
           "line": {
            "color": "#2a3f5f"
           }
          },
          "ternary": {
           "aaxis": {
            "gridcolor": "white",
            "linecolor": "white",
            "ticks": ""
           },
           "baxis": {
            "gridcolor": "white",
            "linecolor": "white",
            "ticks": ""
           },
           "bgcolor": "#E5ECF6",
           "caxis": {
            "gridcolor": "white",
            "linecolor": "white",
            "ticks": ""
           }
          },
          "title": {
           "x": 0.05
          },
          "xaxis": {
           "automargin": true,
           "gridcolor": "white",
           "linecolor": "white",
           "ticks": "",
           "title": {
            "standoff": 15
           },
           "zerolinecolor": "white",
           "zerolinewidth": 2
          },
          "yaxis": {
           "automargin": true,
           "gridcolor": "white",
           "linecolor": "white",
           "ticks": "",
           "title": {
            "standoff": 15
           },
           "zerolinecolor": "white",
           "zerolinewidth": 2
          }
         }
        },
        "title": {
         "text": "Citation vs number of students top 100 universities with 2012, 2013 and 2014 years"
        },
        "xaxis": {
         "ticklen": 5,
         "title": {
          "text": "num of students"
         },
         "zeroline": false
        },
        "yaxis": {
         "ticklen": 5,
         "title": {
          "text": "Citation"
         },
         "zeroline": false
        }
       }
      },
      "text/html": [
       "<div>                            <div id=\"df0163db-fae0-45fc-bbe0-667b4116c72d\" class=\"plotly-graph-div\" style=\"height:525px; width:100%;\"></div>            <script type=\"text/javascript\">                require([\"plotly\"], function(Plotly) {                    window.PLOTLYENV=window.PLOTLYENV || {};                                    if (document.getElementById(\"df0163db-fae0-45fc-bbe0-667b4116c72d\")) {                    Plotly.newPlot(                        \"df0163db-fae0-45fc-bbe0-667b4116c72d\",                        [{\"marker\":{\"color\":\"rgba(255, 128, 255, 0.8)\"},\"mode\":\"markers\",\"name\":\"2012\",\"text\":[\"California Institute of Technology\",\"Harvard University\",\"Stanford University\",\"University of Oxford\",\"Princeton University\",\"University of Cambridge\",\"Massachusetts Institute of Technology\",\"Imperial College London\",\"University of Chicago\",\"University of California, Berkeley\",\"Yale University\",\"Columbia University\",\"University of California, Los Angeles\",\"Johns Hopkins University\",\"ETH Zurich \\u2013 Swiss Federal Institute of Technology Zurich\",\"University of Pennsylvania\",\"University College London\",\"University of Michigan\",\"University of Toronto\",\"Cornell University\",\"Carnegie Mellon University\",\"Duke University\",\"University of British Columbia\",\"Georgia Institute of Technology\",\"University of Washington\",\"Northwestern University\",\"University of Wisconsin-Madison\",\"McGill University\",\"University of Texas at Austin\",\"University of Tokyo\",\"University of Illinois at Urbana-Champaign\",\"Karolinska Institute\",\"University of California, San Diego\",\"University of Hong Kong\",\"University of California, Santa Barbara\",\"University of Edinburgh\",\"University of Melbourne\",\"Australian National University\",\"University of California, Davis\",\"National University of Singapore\",\"Washington University in St Louis\",\"University of Minnesota\",\"University of North Carolina at Chapel Hill\",\"New York University\",\"LMU Munich\",\"\\u00c9cole Polytechnique F\\u00e9d\\u00e9rale de Lausanne\",\"London School of Economics and Political Science\",\"University of Manchester\",\"Brown University\",\"Peking University\",\"Pennsylvania State University\",\"Kyoto University\",\"Pohang University of Science and Technology\",\"Boston University\",\"University of Southern California\",\"King\\u2019s College London\",\"Ohio State University\",\"University of Sydney\",\"University of Pittsburgh\",\"\\u00c9cole Normale Sup\\u00e9rieure\",\"University of Zurich\",\"Hong Kong University of Science and Technology\",\"\\u00c9cole Polytechnique\",\"University of Massachusetts\",\"McMaster University\",\"University of Bristol\",\"KU Leuven\",\"Utrecht University\",\"University of G\\u00f6ttingen\",\"Vanderbilt University\",\"Tsinghua University\",\"Rice University\",\"Heidelberg University\",\"The University of Queensland\",\"Emory University\",\"Wageningen University and Research Center\",\"Tufts University\",\"University of Colorado Boulder\",\"Leiden University\",\"Lund University\",\"Rutgers, the State University of New Jersey\",\"University of Rochester\",\"Durham University\",\"Pierre and Marie Curie University\",\"University of St Andrews\",\"University of California, Irvine\",\"Uppsala University\",\"Technical University of Munich\",\"University of Notre Dame\",\"Dartmouth College\",\"University of Helsinki\",\"University of Amsterdam\",\"Case Western Reserve University\",\"Korea Advanced Institute of Science and Technology (KAIST)\",\"University of Maryland, College Park\",\"Michigan State University\",\"University of Arizona\",\"Purdue University\",\"University of Sussex\",\"University of Alberta\"],\"x\":[\"2,243\",\"20,152\",\"15,596\",\"19,919\",\"7,929\",\"18,812\",\"11,074\",\"15,060\",\"14,221\",\"36,186\",\"11,751\",\"25,055\",\"38,206\",\"15,128\",\"18,178\",\"20,376\",\"26,607\",\"41,786\",\"66,198\",\"21,424\",\"11,885\",\"15,172\",\"50,152\",\"19,967\",\"44,020\",\"18,334\",\"39,655\",\"31,326\",\"49,427\",\"26,199\",\"42,727\",\"7,774\",\"27,233\",\"19,835\",\"22,020\",\"25,774\",\"40,128\",\"14,604\",\"35,364\",\"31,592\",\"12,528\",\"46,825\",\"26,518\",\"42,056\",\"35,691\",\"9,666\",null,\"34,938\",\"8,653\",\"40,148\",\"44,501\",\"22,809\",\"3,055\",\"24,789\",\"36,534\",\"21,394\",\"51,462\",\"41,868\",\"26,485\",\"2,400\",\"26,583\",\"11,385\",\"2,429\",\"56,959\",\"23,823\",\"17,906\",\"42,503\",\"30,779\",\"25,581\",\"12,161\",\"39,763\",\"6,333\",\"28,881\",\"34,718\",\"12,338\",\"9,248\",\"10,410\",\"29,325\",\"21,222\",\"28,251\",\"37,032\",\"9,390\",\"15,489\",\"27,862\",\"8,338\",\"26,614\",\"25,266\",\"35,565\",\"11,829\",\"6,178\",\"23,505\",\"24,570\",\"9,259\",\"9,027\",\"31,331\",\"44,750\",\"36,429\",\"39,256\",\"12,001\",\"36,299\"],\"y\":[99.9,99.8,99.8,97.9,100.0,97.3,100.0,93.9,99.4,99.4,96.7,97.8,97.3,97.3,87.2,97.9,89.0,94.3,86.5,93.5,97.4,97.4,85.2,91.9,98.2,98.6,90.6,77.1,89.6,69.1,81.5,73.1,97.8,60.5,99.9,92.3,80.7,72.6,83.4,63.4,96.1,85.4,92.6,92.3,84.6,95.3,50.6,75.6,93.9,51.0,83.4,56.3,92.3,95.6,80.2,80.9,77.5,57.2,88.7,96.4,78.4,71.0,89.1,80.1,85.5,89.9,63.0,85.7,84.1,86.8,37.4,99.9,78.5,70.2,90.9,66.3,94.5,98.2,71.7,72.8,69.0,94.5,96.2,81.1,83.0,93.5,53.3,76.3,94.1,89.9,75.1,68.3,78.4,47.1,85.8,73.6,78.3,57.8,92.0,51.7],\"type\":\"scatter\"},{\"marker\":{\"color\":\"rgba(255, 128, 2, 0.8)\"},\"mode\":\"markers\",\"name\":\"2013\",\"text\":[\"California Institute of Technology\",\"Stanford University\",\"University of Oxford\",\"Harvard University\",\"Massachusetts Institute of Technology\",\"Princeton University\",\"University of Cambridge\",\"Imperial College London\",\"University of California, Berkeley\",\"University of Chicago\",\"Yale University\",\"ETH Zurich \\u2013 Swiss Federal Institute of Technology Zurich\",\"University of California, Los Angeles\",\"Columbia University\",\"University of Pennsylvania\",\"Johns Hopkins University\",\"University College London\",\"Cornell University\",\"Northwestern University\",\"University of Michigan\",\"University of Toronto\",\"Carnegie Mellon University\",\"Duke University\",\"University of Washington\",\"Georgia Institute of Technology\",\"University of Texas at Austin\",\"University of Tokyo\",\"University of Melbourne\",\"National University of Singapore\",\"University of British Columbia\",\"University of Wisconsin-Madison\",\"University of Edinburgh\",\"University of Illinois at Urbana-Champaign\",\"McGill University\",\"University of California, Santa Barbara\",\"University of Hong Kong\",\"Australian National University\",\"University of California, San Diego\",\"London School of Economics and Political Science\",\"\\u00c9cole Polytechnique F\\u00e9d\\u00e9rale de Lausanne\",\"New York University\",\"Karolinska Institute\",\"University of North Carolina at Chapel Hill\",\"University of California, Davis\",\"Washington University in St Louis\",\"Peking University\",\"University of Minnesota\",\"LMU Munich\",\"University of Manchester\",\"Pohang University of Science and Technology\",\"Brown University\",\"Tsinghua University\",\"Ohio State University\",\"Boston University\",\"Kyoto University\",\"University of Southern California\",\"King\\u2019s College London\",\"KU Leuven\",\"Seoul National University\",\"\\u00c9cole Normale Sup\\u00e9rieure\",\"Pennsylvania State University\",\"University of Sydney\",\"\\u00c9cole Polytechnique\",\"Leiden University\",\"Hong Kong University of Science and Technology\",\"The University of Queensland\",\"Utrecht University\",\"Korea Advanced Institute of Science and Technology (KAIST)\",\"Purdue University\",\"University of G\\u00f6ttingen\",\"Wageningen University and Research Center\",\"Erasmus University Rotterdam\",\"University of Massachusetts\",\"University of Bristol\",\"Rice University\",\"University of Pittsburgh\",\"Delft University of Technology\",\"Heidelberg University\",\"Emory University\",\"Durham University\",\"Pierre and Marie Curie University\",\"Lund University\",\"University of Amsterdam\",\"University of Montreal\",\"University of New South Wales\",\"Nanyang Technological University\",\"Tufts University\",\"McMaster University\",\"University of Groningen\",\"University of Zurich\",\"University of Colorado Boulder\",\"Paris-Sud University\",\"Ghent University\",\"Michigan State University\",\"University of Notre Dame\",\"University of California, Irvine\",\"University of Maryland, College Park\",\"University of Arizona\",\"Humboldt University of Berlin\",\"Monash University\"],\"x\":[\"2,243\",\"15,596\",\"19,919\",\"20,152\",\"11,074\",\"7,929\",\"18,812\",\"15,060\",\"36,186\",\"14,221\",\"11,751\",\"18,178\",\"38,206\",\"25,055\",\"20,376\",\"15,128\",\"26,607\",\"21,424\",\"18,334\",\"41,786\",\"66,198\",\"11,885\",\"15,172\",\"44,020\",\"19,967\",\"49,427\",\"26,199\",\"40,128\",\"31,592\",\"50,152\",\"39,655\",\"25,774\",\"42,727\",\"31,326\",\"22,020\",\"19,835\",\"14,604\",\"27,233\",null,\"9,666\",\"42,056\",\"7,774\",\"26,518\",\"35,364\",\"12,528\",\"40,148\",\"46,825\",\"35,691\",\"34,938\",\"3,055\",\"8,653\",\"39,763\",\"51,462\",\"24,789\",\"22,809\",\"36,534\",\"21,394\",\"42,503\",\"26,389\",\"2,400\",\"44,501\",\"41,868\",\"2,429\",\"21,222\",\"11,385\",\"34,718\",\"30,779\",\"9,027\",\"39,256\",\"25,581\",\"9,248\",\"20,580\",\"56,959\",\"17,906\",\"6,333\",\"26,485\",\"15,920\",\"28,881\",\"12,338\",\"15,489\",\"27,862\",\"28,251\",\"24,570\",\"38,264\",\"38,309\",\"25,028\",\"10,410\",\"23,823\",\"24,556\",\"26,583\",\"29,325\",\"27,603\",\"32,166\",\"44,750\",\"11,829\",\"26,614\",\"31,331\",\"36,429\",\"29,987\",\"50,882\"],\"y\":[99.7,99.3,95.6,99.2,99.9,99.8,96.2,93.0,99.3,98.7,94.8,86.6,95.9,96.1,96.2,95.3,86.8,91.8,98.2,91.6,85.1,95.5,97.0,97.0,90.3,91.0,71.3,83.7,67.2,84.0,88.2,90.8,80.8,75.2,99.4,62.1,73.5,96.2,66.5,95.0,89.2,77.3,90.1,82.7,95.2,64.3,84.7,85.5,76.9,88.2,94.1,55.2,80.1,94.2,57.8,81.9,82.8,67.2,48.0,90.3,81.4,62.9,80.7,78.4,68.9,69.6,82.4,58.4,63.1,92.5,73.8,80.2,77.8,85.4,100.0,85.2,45.1,75.5,90.9,93.3,80.6,77.1,75.1,60.9,56.7,54.5,94.8,81.7,71.6,80.0,97.1,82.9,71.3,73.8,93.5,90.3,83.9,76.9,59.5,60.9],\"type\":\"scatter\"},{\"marker\":{\"color\":\"rgba(0, 255, 200, 0.8)\"},\"mode\":\"markers\",\"name\":\"2014\",\"text\":[\"California Institute of Technology\",\"Harvard University\",\"University of Oxford\",\"Stanford University\",\"Massachusetts Institute of Technology\",\"Princeton University\",\"University of Cambridge\",\"University of California, Berkeley\",\"University of Chicago\",\"Imperial College London\",\"Yale University\",\"University of California, Los Angeles\",\"Columbia University\",\"ETH Zurich \\u2013 Swiss Federal Institute of Technology Zurich\",\"Johns Hopkins University\",\"University of Pennsylvania\",\"Duke University\",\"University of Michigan\",\"Cornell University\",\"University of Toronto\",\"University College London\",\"Northwestern University\",\"University of Tokyo\",\"Carnegie Mellon University\",\"University of Washington\",\"National University of Singapore\",\"University of Texas at Austin\",\"Georgia Institute of Technology\",\"University of Illinois at Urbana-Champaign\",\"University of Wisconsin-Madison\",\"University of British Columbia\",\"London School of Economics and Political Science\",\"University of California, Santa Barbara\",\"University of Melbourne\",\"McGill University\",\"Karolinska Institute\",\"\\u00c9cole Polytechnique F\\u00e9d\\u00e9rale de Lausanne\",\"King\\u2019s College London\",\"University of Edinburgh\",\"New York University\",\"University of California, San Diego\",\"Washington University in St Louis\",\"University of Hong Kong\",\"Seoul National University\",\"Peking University\",\"University of Minnesota\",\"University of North Carolina at Chapel Hill\",\"Australian National University\",\"Pennsylvania State University\",\"Boston University\",\"Tsinghua University\",\"Brown University\",\"Kyoto University\",\"University of California, Davis\",\"LMU Munich\",\"Korea Advanced Institute of Science and Technology (KAIST)\",\"Hong Kong University of Science and Technology\",\"University of Manchester\",\"Ohio State University\",\"Pohang University of Science and Technology\",\"KU Leuven\",\"Purdue University\",\"The University of Queensland\",\"University of G\\u00f6ttingen\",\"Rice University\",\"\\u00c9cole Normale Sup\\u00e9rieure\",\"Leiden University\",\"Heidelberg University\",\"Delft University of Technology\",\"University of Southern California\",\"\\u00c9cole Polytechnique\",\"University of Sydney\",\"Erasmus University Rotterdam\",\"University of Basel\",\"Utrecht University\",\"Nanyang Technological University\",\"Wageningen University and Research Center\",\"University of Pittsburgh\",\"University of Bristol\",\"Durham University\",\"Emory University\",\"Tufts University\",\"Michigan State University\",\"University of Amsterdam\",\"Ghent University\",\"Free University of Berlin\",\"Technical University of Munich\",\"Case Western Reserve University\",\"Vanderbilt University\",\"University of Notre Dame\",\"Monash University\",\"McMaster University\",\"University of California, Irvine\",\"Humboldt University of Berlin\",\"University of Rochester\",\"Pierre and Marie Curie University\",\"University of Colorado Boulder\",\"Maastricht University\",\"University of Groningen\",\"University of Helsinki\"],\"x\":[\"2,243\",\"20,152\",\"19,919\",\"15,596\",\"11,074\",\"7,929\",\"18,812\",\"36,186\",\"14,221\",\"15,060\",\"11,751\",\"38,206\",\"25,055\",\"18,178\",\"15,128\",\"20,376\",\"15,172\",\"41,786\",\"21,424\",\"66,198\",\"26,607\",\"18,334\",\"26,199\",\"11,885\",\"44,020\",\"31,592\",\"49,427\",\"19,967\",\"42,727\",\"39,655\",\"50,152\",null,\"22,020\",\"40,128\",\"31,326\",\"7,774\",\"9,666\",\"21,394\",\"25,774\",\"42,056\",\"27,233\",\"12,528\",\"19,835\",\"26,389\",\"40,148\",\"46,825\",\"26,518\",\"14,604\",\"44,501\",\"24,789\",\"39,763\",\"8,653\",\"22,809\",\"35,364\",\"35,691\",\"9,027\",\"11,385\",\"34,938\",\"51,462\",\"3,055\",\"42,503\",\"39,256\",\"34,718\",\"25,581\",\"6,333\",\"2,400\",\"21,222\",\"28,881\",\"15,920\",\"36,534\",\"2,429\",\"41,868\",\"20,580\",\"12,551\",\"30,779\",\"25,028\",\"9,248\",\"26,485\",\"17,906\",\"15,489\",\"12,338\",\"10,410\",\"44,750\",\"24,570\",\"32,166\",\"33,062\",\"35,565\",\"9,259\",\"12,161\",\"11,829\",\"50,882\",\"23,823\",\"26,614\",\"29,987\",\"9,390\",\"27,862\",\"29,325\",\"15,626\",\"24,556\",\"23,505\"],\"y\":[99.8,99.1,95.4,99.1,100.0,99.7,95.7,99.3,98.0,90.0,93.5,95.6,95.6,85.0,95.0,95.0,96.7,90.8,90.8,84.5,84.1,97.1,69.8,93.9,95.6,66.4,91.3,87.9,79.4,87.2,83.7,69.2,99.4,80.2,74.5,76.0,95.9,87.6,87.6,87.9,96.7,96.4,61.5,47.3,62.8,81.2,90.2,71.2,79.4,95.3,59.9,91.3,58.2,81.2,83.3,67.0,72.3,77.3,79.4,85.7,72.9,67.0,73.3,89.6,99.9,87.0,84.2,76.0,47.2,81.2,82.3,66.6,81.2,81.4,82.0,67.5,74.1,84.4,84.9,88.2,90.8,93.9,71.5,75.0,74.9,64.8,80.7,82.8,86.5,91.8,65.4,79.4,89.7,68.4,89.7,82.3,97.3,65.8,71.1,77.8],\"type\":\"scatter\"}],                        {\"template\":{\"data\":{\"barpolar\":[{\"marker\":{\"line\":{\"color\":\"#E5ECF6\",\"width\":0.5},\"pattern\":{\"fillmode\":\"overlay\",\"size\":10,\"solidity\":0.2}},\"type\":\"barpolar\"}],\"bar\":[{\"error_x\":{\"color\":\"#2a3f5f\"},\"error_y\":{\"color\":\"#2a3f5f\"},\"marker\":{\"line\":{\"color\":\"#E5ECF6\",\"width\":0.5},\"pattern\":{\"fillmode\":\"overlay\",\"size\":10,\"solidity\":0.2}},\"type\":\"bar\"}],\"carpet\":[{\"aaxis\":{\"endlinecolor\":\"#2a3f5f\",\"gridcolor\":\"white\",\"linecolor\":\"white\",\"minorgridcolor\":\"white\",\"startlinecolor\":\"#2a3f5f\"},\"baxis\":{\"endlinecolor\":\"#2a3f5f\",\"gridcolor\":\"white\",\"linecolor\":\"white\",\"minorgridcolor\":\"white\",\"startlinecolor\":\"#2a3f5f\"},\"type\":\"carpet\"}],\"choropleth\":[{\"colorbar\":{\"outlinewidth\":0,\"ticks\":\"\"},\"type\":\"choropleth\"}],\"contourcarpet\":[{\"colorbar\":{\"outlinewidth\":0,\"ticks\":\"\"},\"type\":\"contourcarpet\"}],\"contour\":[{\"colorbar\":{\"outlinewidth\":0,\"ticks\":\"\"},\"colorscale\":[[0.0,\"#0d0887\"],[0.1111111111111111,\"#46039f\"],[0.2222222222222222,\"#7201a8\"],[0.3333333333333333,\"#9c179e\"],[0.4444444444444444,\"#bd3786\"],[0.5555555555555556,\"#d8576b\"],[0.6666666666666666,\"#ed7953\"],[0.7777777777777778,\"#fb9f3a\"],[0.8888888888888888,\"#fdca26\"],[1.0,\"#f0f921\"]],\"type\":\"contour\"}],\"heatmapgl\":[{\"colorbar\":{\"outlinewidth\":0,\"ticks\":\"\"},\"colorscale\":[[0.0,\"#0d0887\"],[0.1111111111111111,\"#46039f\"],[0.2222222222222222,\"#7201a8\"],[0.3333333333333333,\"#9c179e\"],[0.4444444444444444,\"#bd3786\"],[0.5555555555555556,\"#d8576b\"],[0.6666666666666666,\"#ed7953\"],[0.7777777777777778,\"#fb9f3a\"],[0.8888888888888888,\"#fdca26\"],[1.0,\"#f0f921\"]],\"type\":\"heatmapgl\"}],\"heatmap\":[{\"colorbar\":{\"outlinewidth\":0,\"ticks\":\"\"},\"colorscale\":[[0.0,\"#0d0887\"],[0.1111111111111111,\"#46039f\"],[0.2222222222222222,\"#7201a8\"],[0.3333333333333333,\"#9c179e\"],[0.4444444444444444,\"#bd3786\"],[0.5555555555555556,\"#d8576b\"],[0.6666666666666666,\"#ed7953\"],[0.7777777777777778,\"#fb9f3a\"],[0.8888888888888888,\"#fdca26\"],[1.0,\"#f0f921\"]],\"type\":\"heatmap\"}],\"histogram2dcontour\":[{\"colorbar\":{\"outlinewidth\":0,\"ticks\":\"\"},\"colorscale\":[[0.0,\"#0d0887\"],[0.1111111111111111,\"#46039f\"],[0.2222222222222222,\"#7201a8\"],[0.3333333333333333,\"#9c179e\"],[0.4444444444444444,\"#bd3786\"],[0.5555555555555556,\"#d8576b\"],[0.6666666666666666,\"#ed7953\"],[0.7777777777777778,\"#fb9f3a\"],[0.8888888888888888,\"#fdca26\"],[1.0,\"#f0f921\"]],\"type\":\"histogram2dcontour\"}],\"histogram2d\":[{\"colorbar\":{\"outlinewidth\":0,\"ticks\":\"\"},\"colorscale\":[[0.0,\"#0d0887\"],[0.1111111111111111,\"#46039f\"],[0.2222222222222222,\"#7201a8\"],[0.3333333333333333,\"#9c179e\"],[0.4444444444444444,\"#bd3786\"],[0.5555555555555556,\"#d8576b\"],[0.6666666666666666,\"#ed7953\"],[0.7777777777777778,\"#fb9f3a\"],[0.8888888888888888,\"#fdca26\"],[1.0,\"#f0f921\"]],\"type\":\"histogram2d\"}],\"histogram\":[{\"marker\":{\"pattern\":{\"fillmode\":\"overlay\",\"size\":10,\"solidity\":0.2}},\"type\":\"histogram\"}],\"mesh3d\":[{\"colorbar\":{\"outlinewidth\":0,\"ticks\":\"\"},\"type\":\"mesh3d\"}],\"parcoords\":[{\"line\":{\"colorbar\":{\"outlinewidth\":0,\"ticks\":\"\"}},\"type\":\"parcoords\"}],\"pie\":[{\"automargin\":true,\"type\":\"pie\"}],\"scatter3d\":[{\"line\":{\"colorbar\":{\"outlinewidth\":0,\"ticks\":\"\"}},\"marker\":{\"colorbar\":{\"outlinewidth\":0,\"ticks\":\"\"}},\"type\":\"scatter3d\"}],\"scattercarpet\":[{\"marker\":{\"colorbar\":{\"outlinewidth\":0,\"ticks\":\"\"}},\"type\":\"scattercarpet\"}],\"scattergeo\":[{\"marker\":{\"colorbar\":{\"outlinewidth\":0,\"ticks\":\"\"}},\"type\":\"scattergeo\"}],\"scattergl\":[{\"marker\":{\"colorbar\":{\"outlinewidth\":0,\"ticks\":\"\"}},\"type\":\"scattergl\"}],\"scattermapbox\":[{\"marker\":{\"colorbar\":{\"outlinewidth\":0,\"ticks\":\"\"}},\"type\":\"scattermapbox\"}],\"scatterpolargl\":[{\"marker\":{\"colorbar\":{\"outlinewidth\":0,\"ticks\":\"\"}},\"type\":\"scatterpolargl\"}],\"scatterpolar\":[{\"marker\":{\"colorbar\":{\"outlinewidth\":0,\"ticks\":\"\"}},\"type\":\"scatterpolar\"}],\"scatter\":[{\"fillpattern\":{\"fillmode\":\"overlay\",\"size\":10,\"solidity\":0.2},\"type\":\"scatter\"}],\"scatterternary\":[{\"marker\":{\"colorbar\":{\"outlinewidth\":0,\"ticks\":\"\"}},\"type\":\"scatterternary\"}],\"surface\":[{\"colorbar\":{\"outlinewidth\":0,\"ticks\":\"\"},\"colorscale\":[[0.0,\"#0d0887\"],[0.1111111111111111,\"#46039f\"],[0.2222222222222222,\"#7201a8\"],[0.3333333333333333,\"#9c179e\"],[0.4444444444444444,\"#bd3786\"],[0.5555555555555556,\"#d8576b\"],[0.6666666666666666,\"#ed7953\"],[0.7777777777777778,\"#fb9f3a\"],[0.8888888888888888,\"#fdca26\"],[1.0,\"#f0f921\"]],\"type\":\"surface\"}],\"table\":[{\"cells\":{\"fill\":{\"color\":\"#EBF0F8\"},\"line\":{\"color\":\"white\"}},\"header\":{\"fill\":{\"color\":\"#C8D4E3\"},\"line\":{\"color\":\"white\"}},\"type\":\"table\"}]},\"layout\":{\"annotationdefaults\":{\"arrowcolor\":\"#2a3f5f\",\"arrowhead\":0,\"arrowwidth\":1},\"autotypenumbers\":\"strict\",\"coloraxis\":{\"colorbar\":{\"outlinewidth\":0,\"ticks\":\"\"}},\"colorscale\":{\"diverging\":[[0,\"#8e0152\"],[0.1,\"#c51b7d\"],[0.2,\"#de77ae\"],[0.3,\"#f1b6da\"],[0.4,\"#fde0ef\"],[0.5,\"#f7f7f7\"],[0.6,\"#e6f5d0\"],[0.7,\"#b8e186\"],[0.8,\"#7fbc41\"],[0.9,\"#4d9221\"],[1,\"#276419\"]],\"sequential\":[[0.0,\"#0d0887\"],[0.1111111111111111,\"#46039f\"],[0.2222222222222222,\"#7201a8\"],[0.3333333333333333,\"#9c179e\"],[0.4444444444444444,\"#bd3786\"],[0.5555555555555556,\"#d8576b\"],[0.6666666666666666,\"#ed7953\"],[0.7777777777777778,\"#fb9f3a\"],[0.8888888888888888,\"#fdca26\"],[1.0,\"#f0f921\"]],\"sequentialminus\":[[0.0,\"#0d0887\"],[0.1111111111111111,\"#46039f\"],[0.2222222222222222,\"#7201a8\"],[0.3333333333333333,\"#9c179e\"],[0.4444444444444444,\"#bd3786\"],[0.5555555555555556,\"#d8576b\"],[0.6666666666666666,\"#ed7953\"],[0.7777777777777778,\"#fb9f3a\"],[0.8888888888888888,\"#fdca26\"],[1.0,\"#f0f921\"]]},\"colorway\":[\"#636efa\",\"#EF553B\",\"#00cc96\",\"#ab63fa\",\"#FFA15A\",\"#19d3f3\",\"#FF6692\",\"#B6E880\",\"#FF97FF\",\"#FECB52\"],\"font\":{\"color\":\"#2a3f5f\"},\"geo\":{\"bgcolor\":\"white\",\"lakecolor\":\"white\",\"landcolor\":\"#E5ECF6\",\"showlakes\":true,\"showland\":true,\"subunitcolor\":\"white\"},\"hoverlabel\":{\"align\":\"left\"},\"hovermode\":\"closest\",\"mapbox\":{\"style\":\"light\"},\"paper_bgcolor\":\"white\",\"plot_bgcolor\":\"#E5ECF6\",\"polar\":{\"angularaxis\":{\"gridcolor\":\"white\",\"linecolor\":\"white\",\"ticks\":\"\"},\"bgcolor\":\"#E5ECF6\",\"radialaxis\":{\"gridcolor\":\"white\",\"linecolor\":\"white\",\"ticks\":\"\"}},\"scene\":{\"xaxis\":{\"backgroundcolor\":\"#E5ECF6\",\"gridcolor\":\"white\",\"gridwidth\":2,\"linecolor\":\"white\",\"showbackground\":true,\"ticks\":\"\",\"zerolinecolor\":\"white\"},\"yaxis\":{\"backgroundcolor\":\"#E5ECF6\",\"gridcolor\":\"white\",\"gridwidth\":2,\"linecolor\":\"white\",\"showbackground\":true,\"ticks\":\"\",\"zerolinecolor\":\"white\"},\"zaxis\":{\"backgroundcolor\":\"#E5ECF6\",\"gridcolor\":\"white\",\"gridwidth\":2,\"linecolor\":\"white\",\"showbackground\":true,\"ticks\":\"\",\"zerolinecolor\":\"white\"}},\"shapedefaults\":{\"line\":{\"color\":\"#2a3f5f\"}},\"ternary\":{\"aaxis\":{\"gridcolor\":\"white\",\"linecolor\":\"white\",\"ticks\":\"\"},\"baxis\":{\"gridcolor\":\"white\",\"linecolor\":\"white\",\"ticks\":\"\"},\"bgcolor\":\"#E5ECF6\",\"caxis\":{\"gridcolor\":\"white\",\"linecolor\":\"white\",\"ticks\":\"\"}},\"title\":{\"x\":0.05},\"xaxis\":{\"automargin\":true,\"gridcolor\":\"white\",\"linecolor\":\"white\",\"ticks\":\"\",\"title\":{\"standoff\":15},\"zerolinecolor\":\"white\",\"zerolinewidth\":2},\"yaxis\":{\"automargin\":true,\"gridcolor\":\"white\",\"linecolor\":\"white\",\"ticks\":\"\",\"title\":{\"standoff\":15},\"zerolinecolor\":\"white\",\"zerolinewidth\":2}}},\"title\":{\"text\":\"Citation vs number of students top 100 universities with 2012, 2013 and 2014 years\"},\"xaxis\":{\"ticklen\":5,\"title\":{\"text\":\"num of students\"},\"zeroline\":false},\"yaxis\":{\"ticklen\":5,\"title\":{\"text\":\"Citation\"},\"zeroline\":false}},                        {\"responsive\": true}                    ).then(function(){\n",
       "                            \n",
       "var gd = document.getElementById('df0163db-fae0-45fc-bbe0-667b4116c72d');\n",
       "var x = new MutationObserver(function (mutations, observer) {{\n",
       "        var display = window.getComputedStyle(gd).display;\n",
       "        if (!display || display === 'none') {{\n",
       "            console.log([gd, 'removed!']);\n",
       "            Plotly.purge(gd);\n",
       "            observer.disconnect();\n",
       "        }}\n",
       "}});\n",
       "\n",
       "// Listen for the removal of the full notebook cells\n",
       "var notebookContainer = gd.closest('#notebook-container');\n",
       "if (notebookContainer) {{\n",
       "    x.observe(notebookContainer, {childList: true});\n",
       "}}\n",
       "\n",
       "// Listen for the clearing of the current output cell\n",
       "var outputEl = gd.closest('.output');\n",
       "if (outputEl) {{\n",
       "    x.observe(outputEl, {childList: true});\n",
       "}}\n",
       "\n",
       "                        })                };                });            </script>        </div>"
      ]
     },
     "metadata": {},
     "output_type": "display_data"
    }
   ],
   "source": [
    "\n",
    "trace1 =go.Scatter( \n",
    "                    x = df2012.num_students, \n",
    "                    y = df2012.citations,  \n",
    "                    mode = \"markers\",     \n",
    "                    name = \"2012\",      \n",
    "                    marker = dict(color = 'rgba(255, 128, 255, 0.8)'), \n",
    "                    text= df2012.university_name)  \n",
    "\n",
    "\n",
    "trace2 =go.Scatter(\n",
    "                    x = df2013.num_students, \n",
    "                    y = df2013.citations,  \n",
    "                    mode = \"markers\",      \n",
    "                    name = \"2013\",         \n",
    "                    marker = dict(color = 'rgba(255, 128, 2, 0.8)'), \n",
    "                    text= df2013.university_name)  \n",
    "\n",
    "\n",
    "trace3 =go.Scatter(\n",
    "                    x = df2014.num_students, \n",
    "                    y = df2014.citations,  \n",
    "                    mode = \"markers\",     \n",
    "                    name = \"2014\",        \n",
    "                    marker = dict(color = 'rgba(0, 255, 200, 0.8)'), \n",
    "                    text= df2014.university_name) \n",
    "\n",
    "data = [trace1, trace2, trace3] \n",
    "layout = dict(title = 'Citation vs number of students top 100 universities with 2012, 2013 and 2014 years',\n",
    "              xaxis= dict(title= 'num of students',ticklen= 5,zeroline= False),\n",
    "              yaxis= dict(title= 'Citation',ticklen= 5,zeroline= False)  \n",
    "             )\n",
    "fig = dict(data = data, layout = layout)  \n",
    "iplot(fig)"
   ]
  },
  {
   "cell_type": "code",
   "execution_count": null,
   "id": "9f7071f4",
   "metadata": {},
   "outputs": [],
   "source": []
  }
 ],
 "metadata": {
  "kernelspec": {
   "display_name": "Python 3 (ipykernel)",
   "language": "python",
   "name": "python3"
  },
  "language_info": {
   "codemirror_mode": {
    "name": "ipython",
    "version": 3
   },
   "file_extension": ".py",
   "mimetype": "text/x-python",
   "name": "python",
   "nbconvert_exporter": "python",
   "pygments_lexer": "ipython3",
   "version": "3.9.13"
  }
 },
 "nbformat": 4,
 "nbformat_minor": 5
}
